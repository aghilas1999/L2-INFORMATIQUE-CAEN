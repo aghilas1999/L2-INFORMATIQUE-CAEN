{
 "cells": [
  {
   "cell_type": "markdown",
   "metadata": {},
   "source": [
    " TP  3 : Les villes de France\n",
    " ====="
   ]
  },
  {
   "cell_type": "markdown",
   "metadata": {},
   "source": [
    "1 - Introduction \n",
    "------\n",
    "\n",
    "\n",
    "L'objectif de ce TP est d'aller plus loin dans l'utilisation de numpy en réalisant un programme qui permette de calculer des distances entre villes. \n",
    "\n",
    "Le TP sera à réaliser en python 3. Les librairies utilisées sont installées sur les machines de l'université, vous pouvez néanmoins les installer sur vos propres machines à l'aide de l'utilitaire pip présent par défaut avec python.\n",
    "\t\n",
    "N hésite pas à regarder régulièrement la documentation de ces librairies, des exemples d'utilisation accompagnent généralement l'explication de chaque fonction.\n",
    "\n",
    "- Python 3: https://docs.python.org/3/\n",
    "- Numpy: https://docs.scipy.org/doc/numpy/reference/\n",
    "- Scipy: https://docs.scipy.org/doc/scipy/reference/\n",
    "- Matplotilb: https://matplotlib.org/contents.html\n",
    "\n",
    "**<span style=\"color:red\"> À part si cela est précisé, vous ne devez pas utiliser directement de boucle (`for`,`while`) ou de branchement conditionnel (`if`) durant ce TP.</span>.**"
   ]
  },
  {
   "cell_type": "code",
   "execution_count": 40,
   "metadata": {},
   "outputs": [],
   "source": [
    "import numpy as np\n",
    "import scipy as sc\n",
    "import scipy.misc\n",
    "import matplotlib.pyplot as plt"
   ]
  },
  {
   "cell_type": "markdown",
   "metadata": {},
   "source": [
    "2 - Découverte de fonction numpy de calcul de distance\n",
    "----"
   ]
  },
  {
   "cell_type": "markdown",
   "metadata": {},
   "source": [
    "### 2.1 - Création de points"
   ]
  },
  {
   "cell_type": "markdown",
   "metadata": {},
   "source": [
    "Créez un vecteur `x` de 10 valeurs entre 0 et $2\\pi$. "
   ]
  },
  {
   "cell_type": "code",
   "execution_count": 41,
   "metadata": {},
   "outputs": [
    {
     "name": "stdout",
     "output_type": "stream",
     "text": [
      "[0.         0.6981317  1.3962634  2.0943951  2.7925268  3.4906585\n",
      " 4.1887902  4.88692191 5.58505361 6.28318531]\n"
     ]
    }
   ],
   "source": [
    "x = np.linspace(0, 2*np.pi, 10);\n",
    "print(x)"
   ]
  },
  {
   "cell_type": "markdown",
   "metadata": {},
   "source": [
    "Concaténez les vecteurs $cos(x)$ et $sin(x)$ pour former un tableau `p` de taille (10,2)."
   ]
  },
  {
   "cell_type": "code",
   "execution_count": 42,
   "metadata": {},
   "outputs": [
    {
     "name": "stdout",
     "output_type": "stream",
     "text": [
      "(10, 2)\n"
     ]
    }
   ],
   "source": [
    "p = np.stack((np.cos(x), np.sin(x)), axis=1)\n",
    "print(p.shape)"
   ]
  },
  {
   "cell_type": "code",
   "execution_count": 43,
   "metadata": {},
   "outputs": [
    {
     "name": "stdout",
     "output_type": "stream",
     "text": [
      "True\n"
     ]
    }
   ],
   "source": [
    "print(p.shape==(10,2))"
   ]
  },
  {
   "cell_type": "markdown",
   "metadata": {},
   "source": [
    "Affichez les 10 points que nous venons de créer avec la fonction `plt.scatter`. Vous pouvez ajouter `plt.axis('equal')` pour avoir des axes orthonormaux."
   ]
  },
  {
   "cell_type": "code",
   "execution_count": 44,
   "metadata": {},
   "outputs": [
    {
     "data": {
      "image/png": "[encoded data removed]",
      "text/plain": [
       "<Figure size 432x288 with 1 Axes>"
      ]
     },
     "metadata": {
      "needs_background": "light"
     },
     "output_type": "display_data"
    }
   ],
   "source": [
    "plt.scatter(p[:,0], p[:,1])\n",
    "plt.axis('equal')\n",
    "plt.show()"
   ]
  },
  {
   "cell_type": "markdown",
   "metadata": {},
   "source": [
    "### 2.2 Calcul de distances entre points"
   ]
  },
  {
   "cell_type": "markdown",
   "metadata": {},
   "source": [
    "La fonction `sc.spatial.distance.pdist` de la librairie *scipy* (https://docs.scipy.org/doc/scipy/reference/generated/scipy.spatial.distance.pdist.html) permet de calculer toutes les distances (par défaut la distance euclidienne) entre les points d'un ensemble de point. Elle retourne ainsi un vecteur qui correspond d'abord à la distance du premier point avec tous les autres, puis la distance du deuxième point avec tous les autres sauf le premier point (en effet la distance entre le deuxième point et le premier est déjà calculée lorsque l'on a calculé la distance entre le premier point et le deuxième)...\n",
    "Cette fonction est optimisée pour calculer chaque distance une seule fois. \n",
    "Utilisez là pour calculer les distances des points `p`. Vous stockerez le résultat dans `md`."
   ]
  },
  {
   "cell_type": "code",
   "execution_count": 113,
   "metadata": {},
   "outputs": [
    {
     "name": "stdout",
     "output_type": "stream",
     "text": [
      "[6.84040287e-01 1.28557522e+00 1.73205081e+00 1.96961551e+00\n",
      " 1.96961551e+00 1.73205081e+00 1.28557522e+00 6.84040287e-01\n",
      " 2.44929360e-16 6.84040287e-01 1.28557522e+00 1.73205081e+00\n",
      " 1.96961551e+00 1.96961551e+00 1.73205081e+00 1.28557522e+00\n",
      " 6.84040287e-01 6.84040287e-01 1.28557522e+00 1.73205081e+00\n",
      " 1.96961551e+00 1.96961551e+00 1.73205081e+00 1.28557522e+00\n",
      " 6.84040287e-01 1.28557522e+00 1.73205081e+00 1.96961551e+00\n",
      " 1.96961551e+00 1.73205081e+00 6.84040287e-01 1.28557522e+00\n",
      " 1.73205081e+00 1.96961551e+00 1.96961551e+00 6.84040287e-01\n",
      " 1.28557522e+00 1.73205081e+00 1.96961551e+00 6.84040287e-01\n",
      " 1.28557522e+00 1.73205081e+00 6.84040287e-01 1.28557522e+00\n",
      " 6.84040287e-01]\n"
     ]
    }
   ],
   "source": [
    "md = sc.spatial.distance.pdist(p)\n",
    "print(md)"
   ]
  },
  {
   "cell_type": "markdown",
   "metadata": {},
   "source": [
    "### 2.3 Calcul de la matrice des distances entre les points\n",
    "\n",
    "Dans cette partie, nous voulons construire une matrice permettant de retrouver facilement la distance entre chaque point. Une case $i,j$ de cette matrice, représente la distance entre le point $i$ et le point $j$."
   ]
  },
  {
   "cell_type": "markdown",
   "metadata": {},
   "source": [
    "Créez un vecteur `v` des entiers compris ente 0 et 10."
   ]
  },
  {
   "cell_type": "code",
   "execution_count": 46,
   "metadata": {},
   "outputs": [
    {
     "name": "stdout",
     "output_type": "stream",
     "text": [
      "[0 1 2 3 4 5 6 7 8 9]\n"
     ]
    }
   ],
   "source": [
    "v = np.arange(0, 10)\n",
    "print(v)"
   ]
  },
  {
   "cell_type": "markdown",
   "metadata": {},
   "source": [
    "Créez une matrice `m` contenant le vecteur `v` répété sur 10 lignes."
   ]
  },
  {
   "cell_type": "code",
   "execution_count": 47,
   "metadata": {},
   "outputs": [
    {
     "name": "stdout",
     "output_type": "stream",
     "text": [
      "[[0 1 2 3 4 5 6 7 8 9]\n",
      " [0 1 2 3 4 5 6 7 8 9]\n",
      " [0 1 2 3 4 5 6 7 8 9]\n",
      " [0 1 2 3 4 5 6 7 8 9]\n",
      " [0 1 2 3 4 5 6 7 8 9]\n",
      " [0 1 2 3 4 5 6 7 8 9]\n",
      " [0 1 2 3 4 5 6 7 8 9]\n",
      " [0 1 2 3 4 5 6 7 8 9]\n",
      " [0 1 2 3 4 5 6 7 8 9]\n",
      " [0 1 2 3 4 5 6 7 8 9]]\n",
      "(10, 10)\n"
     ]
    }
   ],
   "source": [
    "m = np.tile(v, (10,1))\n",
    "print(m)\n",
    "print(m.shape)"
   ]
  },
  {
   "cell_type": "markdown",
   "metadata": {},
   "source": [
    "Créez un tableau `t` de dimension (10,10,2) contenant une concaténation de la matrice $m$ et de sa transposée."
   ]
  },
  {
   "cell_type": "code",
   "execution_count": 48,
   "metadata": {},
   "outputs": [
    {
     "name": "stdout",
     "output_type": "stream",
     "text": [
      "(10, 10, 2)\n",
      "[[[0 0]\n",
      "  [1 0]\n",
      "  [2 0]\n",
      "  [3 0]\n",
      "  [4 0]\n",
      "  [5 0]\n",
      "  [6 0]\n",
      "  [7 0]\n",
      "  [8 0]\n",
      "  [9 0]]\n",
      "\n",
      " [[0 1]\n",
      "  [1 1]\n",
      "  [2 1]\n",
      "  [3 1]\n",
      "  [4 1]\n",
      "  [5 1]\n",
      "  [6 1]\n",
      "  [7 1]\n",
      "  [8 1]\n",
      "  [9 1]]\n",
      "\n",
      " [[0 2]\n",
      "  [1 2]\n",
      "  [2 2]\n",
      "  [3 2]\n",
      "  [4 2]\n",
      "  [5 2]\n",
      "  [6 2]\n",
      "  [7 2]\n",
      "  [8 2]\n",
      "  [9 2]]\n",
      "\n",
      " [[0 3]\n",
      "  [1 3]\n",
      "  [2 3]\n",
      "  [3 3]\n",
      "  [4 3]\n",
      "  [5 3]\n",
      "  [6 3]\n",
      "  [7 3]\n",
      "  [8 3]\n",
      "  [9 3]]\n",
      "\n",
      " [[0 4]\n",
      "  [1 4]\n",
      "  [2 4]\n",
      "  [3 4]\n",
      "  [4 4]\n",
      "  [5 4]\n",
      "  [6 4]\n",
      "  [7 4]\n",
      "  [8 4]\n",
      "  [9 4]]\n",
      "\n",
      " [[0 5]\n",
      "  [1 5]\n",
      "  [2 5]\n",
      "  [3 5]\n",
      "  [4 5]\n",
      "  [5 5]\n",
      "  [6 5]\n",
      "  [7 5]\n",
      "  [8 5]\n",
      "  [9 5]]\n",
      "\n",
      " [[0 6]\n",
      "  [1 6]\n",
      "  [2 6]\n",
      "  [3 6]\n",
      "  [4 6]\n",
      "  [5 6]\n",
      "  [6 6]\n",
      "  [7 6]\n",
      "  [8 6]\n",
      "  [9 6]]\n",
      "\n",
      " [[0 7]\n",
      "  [1 7]\n",
      "  [2 7]\n",
      "  [3 7]\n",
      "  [4 7]\n",
      "  [5 7]\n",
      "  [6 7]\n",
      "  [7 7]\n",
      "  [8 7]\n",
      "  [9 7]]\n",
      "\n",
      " [[0 8]\n",
      "  [1 8]\n",
      "  [2 8]\n",
      "  [3 8]\n",
      "  [4 8]\n",
      "  [5 8]\n",
      "  [6 8]\n",
      "  [7 8]\n",
      "  [8 8]\n",
      "  [9 8]]\n",
      "\n",
      " [[0 9]\n",
      "  [1 9]\n",
      "  [2 9]\n",
      "  [3 9]\n",
      "  [4 9]\n",
      "  [5 9]\n",
      "  [6 9]\n",
      "  [7 9]\n",
      "  [8 9]\n",
      "  [9 9]]]\n"
     ]
    }
   ],
   "source": [
    "t = np.stack((m, m.T), axis=2)\n",
    "print(t.shape)\n",
    "print(t)"
   ]
  },
  {
   "cell_type": "markdown",
   "metadata": {},
   "source": [
    "Lancez le code suivant, vous devriez avoir une matrice triangulaire supérieur. La visualisation de la matrice sous forme d'image peut être plus clair qu'un affichage direct de ses valeurs."
   ]
  },
  {
   "cell_type": "code",
   "execution_count": 49,
   "metadata": {},
   "outputs": [
    {
     "name": "stdout",
     "output_type": "stream",
     "text": [
      "[[0 1 1 1 1 1 1 1 1 1]\n",
      " [0 0 1 1 1 1 1 1 1 1]\n",
      " [0 0 0 1 1 1 1 1 1 1]\n",
      " [0 0 0 0 1 1 1 1 1 1]\n",
      " [0 0 0 0 0 1 1 1 1 1]\n",
      " [0 0 0 0 0 0 1 1 1 1]\n",
      " [0 0 0 0 0 0 0 1 1 1]\n",
      " [0 0 0 0 0 0 0 0 1 1]\n",
      " [0 0 0 0 0 0 0 0 0 1]\n",
      " [0 0 0 0 0 0 0 0 0 0]]\n"
     ]
    },
    {
     "data": {
      "image/png": "[encoded data removed]",
      "text/plain": [
       "<Figure size 432x288 with 1 Axes>"
      ]
     },
     "metadata": {
      "needs_background": "light"
     },
     "output_type": "display_data"
    }
   ],
   "source": [
    "masque = 1*(t[:,:,0]>t[:,:,1])\n",
    "print(masque)\n",
    "plt.imshow(masque,cmap='gray')\n",
    "plt.title('Matrice masque')\n",
    "# Affichage de la grille\n",
    "ax = plt.gca()\n",
    "ax.set_xticks(np.arange(0, 10))\n",
    "ax.set_yticks(np.arange(0, 10))\n",
    "ax.set_xticks(np.arange(-.5, 10, 1), minor=True);\n",
    "ax.set_yticks(np.arange(-.5, 10, 1), minor=True);\n",
    "ax.set_xticklabels(np.arange(10))\n",
    "ax.set_yticklabels(np.arange(10))\n",
    "plt.grid(which='minor')\n",
    "plt.show()"
   ]
  },
  {
   "cell_type": "markdown",
   "metadata": {},
   "source": [
    "Nous voulons créez une matrice permettant de connaitre les distances entre les 10 points étudiés. Une case $i,j$ représente la distance entre le point $i$ et le point $j$. Commencez par créer une matrice `dist` de (10,10) que vous initialiserez à 0."
   ]
  },
  {
   "cell_type": "code",
   "execution_count": 55,
   "metadata": {},
   "outputs": [
    {
     "name": "stdout",
     "output_type": "stream",
     "text": [
      "(10, 10)\n"
     ]
    },
    {
     "data": {
      "image/png": "[encoded data removed]",
      "text/plain": [
       "<Figure size 720x576 with 1 Axes>"
      ]
     },
     "metadata": {
      "needs_background": "light"
     },
     "output_type": "display_data"
    }
   ],
   "source": [
    "dist = np.zeros(np.array((10,10)))\n",
    "print(dist.shape)\n",
    "\n",
    "plt.figure(figsize = (10,8))\n",
    "plt.imshow(dist,cmap='gray')\n",
    "plt.title('Matrice masque')\n",
    "# Affichage de la grille\n",
    "ax = plt.gca()\n",
    "ax.set_xticks(np.arange(0, 10))\n",
    "ax.set_yticks(np.arange(0, 10))\n",
    "ax.set_xticks(np.arange(-.5, 10, 1), minor=True);\n",
    "ax.set_yticks(np.arange(-.5, 10, 1), minor=True);\n",
    "ax.set_xticklabels(np.arange(10))\n",
    "ax.set_yticklabels(np.arange(10))\n",
    "plt.grid(which='minor')\n",
    "plt.show()"
   ]
  },
  {
   "cell_type": "markdown",
   "metadata": {},
   "source": [
    "La matrice `masque` calculée précédemment indique entre quels points sont calculés les distances du vecteur `md` (calculé par la fonction `sc.spatial.distance.pdist`). Les 1 de la matrice `masque` sont les endroits où devront être recopié les valeurs du vecteur `md`. L'ordre de parcourir correspond à l'ordre de parcours normal sur les tableaux numpy. \n",
    "\n",
    "Recopiez les valeurs de `md` dans `dist` aux positions où le `masque==1`."
   ]
  },
  {
   "cell_type": "code",
   "execution_count": 114,
   "metadata": {
    "scrolled": true
   },
   "outputs": [
    {
     "name": "stdout",
     "output_type": "stream",
     "text": [
      "(10, 10)\n"
     ]
    },
    {
     "data": {
      "image/png": "[encoded data removed]",
      "text/plain": [
       "<Figure size 432x432 with 1 Axes>"
      ]
     },
     "metadata": {
      "needs_background": "light"
     },
     "output_type": "display_data"
    }
   ],
   "source": [
    "dist[masque == 1] = md\n",
    "print(dist.shape)\n",
    "\n",
    "plt.figure(figsize = (6,6))\n",
    "plt.imshow(dist,cmap='gray')\n",
    "plt.title('Matrice masque')\n",
    "# Affichage de la grille\n",
    "ax = plt.gca()\n",
    "ax.set_xticks(np.arange(0, 10))\n",
    "ax.set_yticks(np.arange(0, 10))\n",
    "ax.set_xticks(np.arange(-.5, 10, 1), minor=True);\n",
    "ax.set_yticks(np.arange(-.5, 10, 1), minor=True);\n",
    "ax.set_xticklabels(np.arange(10))\n",
    "ax.set_yticklabels(np.arange(10))\n",
    "plt.grid(which='minor')\n",
    "plt.show()"
   ]
  },
  {
   "cell_type": "markdown",
   "metadata": {},
   "source": [
    "Il faut maintenant compléter la matrice avec son symétrique pour avoir la matrice de toutes les distances. La diagonale peut être laissé à 0 (la distance d'un point avec lui même est bien nulle)."
   ]
  },
  {
   "cell_type": "code",
   "execution_count": 92,
   "metadata": {},
   "outputs": [
    {
     "name": "stdout",
     "output_type": "stream",
     "text": [
      "(10, 10)\n"
     ]
    },
    {
     "data": {
      "image/png": "[encoded data removed]",
      "text/plain": [
       "<Figure size 576x576 with 1 Axes>"
      ]
     },
     "metadata": {
      "needs_background": "light"
     },
     "output_type": "display_data"
    }
   ],
   "source": [
    "symetric = dist + dist.T\n",
    "\n",
    "print(symetric.shape)\n",
    "\n",
    "plt.figure(figsize = (8,8))\n",
    "plt.imshow(symetric,cmap='gray')\n",
    "plt.title('Matrice masque')\n",
    "# Affichage de la grille\n",
    "ax = plt.gca()\n",
    "ax.set_xticks(np.arange(0, 10))\n",
    "ax.set_yticks(np.arange(0, 10))\n",
    "ax.set_xticks(np.arange(-.5, 10, 1), minor=True);\n",
    "ax.set_yticks(np.arange(-.5, 10, 1), minor=True);\n",
    "ax.set_xticklabels(np.arange(10))\n",
    "ax.set_yticklabels(np.arange(10))\n",
    "plt.grid(which='minor')\n",
    "plt.show()"
   ]
  },
  {
   "cell_type": "markdown",
   "metadata": {},
   "source": [
    "Vous pouvez vérifiez la distance entre le premier et le cinquième point."
   ]
  },
  {
   "cell_type": "code",
   "execution_count": 137,
   "metadata": {},
   "outputs": [
    {
     "name": "stdout",
     "output_type": "stream",
     "text": [
      "1.969615506024416\n",
      "1.969615506024416\n"
     ]
    }
   ],
   "source": [
    "print(dist[0,5])\n",
    "print(dist[0,5:][0])\n"
   ]
  },
  {
   "cell_type": "markdown",
   "metadata": {},
   "source": [
    "L'opération que nous venons de faire peut être faite directement avec la fonction `sc.spatial.distance.squareform` de scipy (https://docs.scipy.org/doc/scipy/reference/generated/scipy.spatial.distance.squareform.html#scipy.spatial.distance.squareform). Utilisez cette fonction sur `md` et comparez le résultat avec la matrice `dist`."
   ]
  },
  {
   "cell_type": "code",
   "execution_count": 116,
   "metadata": {},
   "outputs": [
    {
     "name": "stdout",
     "output_type": "stream",
     "text": [
      "('Egalite des deux solutions ? : ', False)\n"
     ]
    }
   ],
   "source": [
    "print('Egalite des deux solutions ? : ', ((sc.spatial.distance.squareform(md) == dist).all()))"
   ]
  },
  {
   "cell_type": "markdown",
   "metadata": {},
   "source": [
    "3 - Analyse du fichier fourni\n",
    "---"
   ]
  },
  {
   "cell_type": "markdown",
   "metadata": {},
   "source": [
    "Nous allons travailler dans ce TP sur une version modifiée d'un fichier recensant l'ensemble des villes de France dont la version originale se trouve à l'adresse suivante: https://www.data.gouv.fr/fr/datasets/listes-des-communes-geolocalisees-par-regions-departements-circonscriptions-nd/.\n",
    "Vous avez à votre disposition  deux fichiers appelé *villes\\_france.csv* et *villes\\_normandie.csv* contenant des informations sur respectivement l'ensemble des villes de France et de Normandie. Vous pouvez commencer à regarder leurs contenus au moyen d'un éditeur de texte (par exemple gedit), ou l'importer sous Open Office ou Libre Office. Vous verrez que la première ligne contient les intitulés des colonnes. Les colonnes sont séparées par des \";\".  \n",
    "\n",
    "Vous travaillerez dans un premier sur le fichier *villes\\_normandie.csv*. Une fois votre code fonctionnel, vous pouvez tester sur l'ensemble des villes de France *villes\\_france.csv*."
   ]
  },
  {
   "cell_type": "markdown",
   "metadata": {},
   "source": [
    "Le code suivant importe le contenu du fichier *villes\\_normandie.csv* dans la variable `nom_ville`. Seule la colonne 8 est importé, chaque colonne étant défini grâce au séparateur `;`."
   ]
  },
  {
   "cell_type": "code",
   "execution_count": 117,
   "metadata": {},
   "outputs": [
    {
     "name": "stdout",
     "output_type": "stream",
     "text": [
      "['Audrieu' 'Authie' 'Bretteville-sur-Odon' ... 'Vieux-Rouen-sur-Bresle'\n",
      " 'Villers-sous-Foucarmont' 'Wanchy-Capval']\n"
     ]
    }
   ],
   "source": [
    "nom_ville = np.loadtxt('villes_normandie.csv', delimiter=';',dtype=np.string_,usecols=8,skiprows=1)\n",
    "print(nom_ville)"
   ]
  },
  {
   "cell_type": "markdown",
   "metadata": {},
   "source": [
    "Le code suivant permet de détecter les villes portant le même nom. Nous les supprimerons dans la suite du TP. La variable `premier_doublon` indique l'indice de chaque première occurrence de nom des villes."
   ]
  },
  {
   "cell_type": "code",
   "execution_count": 118,
   "metadata": {},
   "outputs": [
    {
     "name": "stdout",
     "output_type": "stream",
     "text": [
      "['Ablon' 'Aclou' 'Acon' ... 'Yville-sur-Seine' 'Yvrandes'\n",
      " 'Y\\xc3\\xa9bleron']\n"
     ]
    }
   ],
   "source": [
    "# Détection des doublons\n",
    "nom_ville, premier_doublon = np.unique(nom_ville, return_index=True)\n",
    "print(nom_ville)"
   ]
  },
  {
   "cell_type": "markdown",
   "metadata": {},
   "source": [
    "Les villes présentent dans le tableau précédant sont stockées sous la forme de chaines de caractère numpy (ce qui explique le b devant les ''). Pour afficher correctement la 428 ème ville, vous pouvez utiliser le code suivant: "
   ]
  },
  {
   "cell_type": "code",
   "execution_count": 127,
   "metadata": {},
   "outputs": [
    {
     "name": "stdout",
     "output_type": "stream",
     "text": [
      "Rouen\n"
     ]
    }
   ],
   "source": [
    "print(nom_ville[428].decode('latin_1'))"
   ]
  },
  {
   "cell_type": "markdown",
   "metadata": {},
   "source": [
    "En utilisant le tableau précédent et une boucle `for` et `if`, créez un dictionnaire python nommé `ville` donnant pour un nom de ville son numéro correspondant à son ordre d'apparition dans le tableau `nom_ville`. Par exemple *Ablon* aura le numéro 0, *Caen* le numéro 428... Vous convertirez les chaines de caractères numpy en chaine de caractères python comme dans l'affichage ci-dessus."
   ]
  },
  {
   "cell_type": "code",
   "execution_count": 128,
   "metadata": {},
   "outputs": [],
   "source": [
    "ville = {}\n",
    "for i in range(len(nom_ville)):\n",
    "    ville[nom_ville[i]] = i\n"
   ]
  },
  {
   "cell_type": "code",
   "execution_count": 131,
   "metadata": {},
   "outputs": [
    {
     "name": "stdout",
     "output_type": "stream",
     "text": [
      "('Verification Audrieu:', True)\n",
      "('Verification Caen:', True)\n"
     ]
    }
   ],
   "source": [
    "print('Verification Audrieu:',nom_ville[ville['Audrieu']]==b'Audrieu')\n",
    "print('Verification Caen:',nom_ville[ville['Caen']]==b'Caen')"
   ]
  },
  {
   "cell_type": "markdown",
   "metadata": {},
   "source": [
    "Créez une matrice numpy `coord` dans laquelle chaque ligne représente une ville, la première colonne contient la latitude et la seconde colonne la longitude de la ville. Pour cela remplacez dans le code suivant les \"?\" avec les bonnes valeurs. Vous aurez besoin d'ouvrir le fichier *villes_normandie.csv* avec un éditeur de texte pour connaitre les indices des colonnes à récupérer."
   ]
  },
  {
   "cell_type": "code",
   "execution_count": 132,
   "metadata": {},
   "outputs": [],
   "source": [
    "coord = np.loadtxt('villes_normandie.csv', delimiter=';',usecols=(11,12),skiprows=1)\n",
    "coord = coord[premier_doublon]"
   ]
  },
  {
   "cell_type": "code",
   "execution_count": 134,
   "metadata": {},
   "outputs": [
    {
     "name": "stdout",
     "output_type": "stream",
     "text": [
      "('Verification des coordonnees de Caen:', True)\n"
     ]
    }
   ],
   "source": [
    "print('Verification des coordonnees de Caen:',np.prod(coord[ville['Caen']]==[49.183333,-0.35 ])==1)"
   ]
  },
  {
   "cell_type": "markdown",
   "metadata": {},
   "source": [
    "Sauver le dictionnaire et les matrices dans un fichier de type \"pickle\", cela sera plus facile à charger ultérieurement. "
   ]
  },
  {
   "cell_type": "code",
   "execution_count": 136,
   "metadata": {},
   "outputs": [],
   "source": [
    "import pickle\n",
    "\n",
    "# pour écrire les données sur disque avec pickle\n",
    "with open('data.pickle', 'wb') as f:  \n",
    "    pickle.dump([ville,nom_ville,coord], f)\n",
    "    \n",
    "# pour lire les données sur disque avec pickle\n",
    "with open('data.pickle', 'rb') as f:  \n",
    "    [ville,nom_ville,coord] = pickle.load(f)"
   ]
  },
  {
   "cell_type": "markdown",
   "metadata": {},
   "source": [
    "4 - Distances géodésiques entre villes\n",
    "----"
   ]
  },
  {
   "cell_type": "markdown",
   "metadata": {},
   "source": [
    "Dans un premier temps, vous écrirez une fonction `distGeo` qui permet de calculer la distance géodésique entre deux villes, à partir des coordonnées des villes. Vous utiliserez pour cela l'équation suivante :\n",
    "\n",
    "$$\n",
    "\td_g = R \\cos^{-1}\\left(\\sin(p1_{lat})\\sin(p2_{lat})+\\cos(p1_{lat})\\cos(p2_{lat})\\cos(p1_{lon}-p2_{lon})\\right)\n",
    "$$\n",
    "où $R=6367.445$ est le rayon de la terre (en km), $p1$ et $p2$ les deux points dont on souhaite calculer la distance. Les indices $_{lat}$ $_{lon}$ représentent la latitude et la longitude en radian. Attention, dans le ficher de données, les valeurs sont données en degrés.\n"
   ]
  },
  {
   "cell_type": "code",
   "execution_count": null,
   "metadata": {
    "collapsed": true
   },
   "outputs": [],
   "source": []
  },
  {
   "cell_type": "code",
   "execution_count": 138,
   "metadata": {},
   "outputs": [],
   "source": [
    "R = 6367.445\n",
    "\n",
    "def distGeo(u,v):\n",
    "    u = u*np.pi/180\n",
    "    v = v*np.pi/180\n",
    "    \n",
    "    return R*np.arccos(np.sin(u[0])*np.sin(v[0]) + np.cos(u[0])*np.cos(v[0])*np.cos(u[1] - v[1]))"
   ]
  },
  {
   "cell_type": "code",
   "execution_count": 140,
   "metadata": {},
   "outputs": [
    {
     "name": "stdout",
     "output_type": "stream",
     "text": [
      "('Verification la distance g\\xc3\\xa9odesique entre Caen et Audrieu:', True)\n"
     ]
    }
   ],
   "source": [
    "print ('Verification la distance géodesique entre Caen et Audrieu:',distGeo(coord[ville[\"Caen\"]],coord[ville[\"Audrieu\"]])==18.25141017851904)"
   ]
  },
  {
   "cell_type": "markdown",
   "metadata": {},
   "source": [
    "Vérifiez que votre fonction donne un résultat correct en calculant la distance entre Caen et Rouen et comparez le  résultat à celui donné par le site https://www.ephemeride.com/atlas/distance/27/ qui permet de calculer les distances à vol d'oiseau entre deux villes."
   ]
  },
  {
   "cell_type": "code",
   "execution_count": 142,
   "metadata": {},
   "outputs": [
    {
     "name": "stdout",
     "output_type": "stream",
     "text": [
      "('Distance entre Caen et Rouen: ', 107.5056062486595)\n"
     ]
    }
   ],
   "source": [
    "print(\"Distance entre Caen et Rouen: \", distGeo(coord[ville[\"Caen\"]], coord[ville[\"Rouen\"]]))"
   ]
  },
  {
   "cell_type": "markdown",
   "metadata": {},
   "source": [
    "Nous désirons désormais calculer une matrice `dist` contenant l'ensemble des distances entre villes. La valeur $(i,j)$ de cette matrice représentera la distance entre la ville $i$ et la ville $j$.\n",
    " \n",
    "Construire cette matrice avec des boucles prendrait beaucoup trop de temps. Utilisez les fonctions `pdist` et `squareform` vu en début de TP. Nous attirons votre attention sur l'argument `metric` de la fonction `pdist` permettant de choisir le type de distance utilisée. Cet argument peut être soit une chaîne de caractère parmi celles proposées dans la documentation, soit une fonction que vous avez préalablement créée.\n",
    "\n",
    "**Calculez cette matrice de distance pour les 500 premières villes (matrice 500x500).** \n",
    "Affichez également le temps d'exécution de ce bloc d'instruction."
   ]
  },
  {
   "cell_type": "code",
   "execution_count": 149,
   "metadata": {},
   "outputs": [
    {
     "name": "stdout",
     "output_type": "stream",
     "text": [
      "CPU times: user 2.94 s, sys: 140 ms, total: 3.08 s\n",
      "Wall time: 2.94 s\n"
     ]
    }
   ],
   "source": [
    "%%time\n",
    "m = sc.spatial.distance.pdist(coord[0:500,:], distGeo)\n",
    "dist = sc.spatial.distance.squareform(m)"
   ]
  },
  {
   "cell_type": "code",
   "execution_count": 150,
   "metadata": {},
   "outputs": [
    {
     "name": "stdout",
     "output_type": "stream",
     "text": [
      "('Distance ente Caen et Audrieu:', True)\n"
     ]
    }
   ],
   "source": [
    "print('Distance ente Caen et Audrieu:',dist[ville['Caen'],ville['Audrieu']]==18.25141017851904)"
   ]
  },
  {
   "cell_type": "markdown",
   "metadata": {},
   "source": [
    "À votre avis que va-t-il se passer si on veut calculer cette matrice pour l'ensemble des villes de Normandie ?"
   ]
  },
  {
   "cell_type": "code",
   "execution_count": 152,
   "metadata": {},
   "outputs": [
    {
     "name": "stdout",
     "output_type": "stream",
     "text": [
      "CPU times: user 1min 31s, sys: 756 ms, total: 1min 32s\n",
      "Wall time: 1min 31s\n"
     ]
    }
   ],
   "source": [
    "%%time\n",
    "m_normandie = sc.spatial.distance.pdist(coord, distGeo)\n",
    "dist_normandie = sc.spatial.distance.squareform(m_normandie)"
   ]
  }
 ],
 "metadata": {
  "kernelspec": {
   "display_name": "Python 3",
   "language": "python",
   "name": "python3"
  },
  "language_info": {
   "codemirror_mode": {
    "name": "ipython",
    "version": 2
   },
   "file_extension": ".py",
   "mimetype": "text/x-python",
   "name": "python",
   "nbconvert_exporter": "python",
   "pygments_lexer": "ipython2",
   "version": "2.7.12"
  }
 },
 "nbformat": 4,
 "nbformat_minor": 2
}
