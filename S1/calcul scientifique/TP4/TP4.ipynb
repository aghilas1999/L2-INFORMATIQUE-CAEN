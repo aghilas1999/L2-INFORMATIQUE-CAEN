{
 "cells": [
  {
   "cell_type": "markdown",
   "metadata": {},
   "source": [
    " TP  4 : Les villes de France (suite)\n",
    " ====="
   ]
  },
  {
   "cell_type": "markdown",
   "metadata": {},
   "source": [
    "1 - Introduction \n",
    "------\n",
    "\n",
    "\n",
    "L'objectif de ce TP est d'approfondir et d'améliorer le TP3. Si vous ne l'avez pas fait, finissez d'abord le TP 3 avant de faire ce TP, vous pourrez alors reprendre une grande partie du code pour débuter ce TP.\n",
    "\n",
    "Le TP sera à réaliser en python 3. Les librairies utilisées sont installées sur les machines de l'université, vous pouvez néanmoins les installer sur vos propres machines à l'aide de l'utilitaire pip présent par défaut avec python.\n",
    "\t\n",
    "N'hésite pas à regarder régulièrement la documentation de ces librairies, des exemples d'utilisation accompagnent généralement l'explication de chaque fonction.\n",
    "\n",
    "- Python 3: https://docs.python.org/3/\n",
    "- Numpy: https://docs.scipy.org/doc/numpy/reference/\n",
    "- Scipy: https://docs.scipy.org/doc/scipy/reference/\n",
    "- Matplotilb: https://matplotlib.org/contents.html\n",
    "\n",
    "**<span style=\"color:red\"> À part si cela est précisé, vous ne devez pas utiliser directement de boucle (`for`,`while`) ou de branchement conditionnel (`if`) durant ce TP.</span>.**"
   ]
  },
  {
   "cell_type": "code",
   "execution_count": 1,
   "metadata": {},
   "outputs": [],
   "source": [
    "import numpy as np\n",
    "import scipy as sc\n",
    "import scipy.misc\n",
    "import matplotlib.pyplot as plt"
   ]
  },
  {
   "cell_type": "markdown",
   "metadata": {},
   "source": [
    "2 - Calcul de distances euclidiennes\n",
    "----\n",
    "### 2.1 Approche avec la librairie scipy"
   ]
  },
  {
   "cell_type": "markdown",
   "metadata": {},
   "source": [
    "Générez 20 points sur un cercle de rayon 1. Vous stockerez leurs coordonnées dans la matrice `p`."
   ]
  },
  {
   "cell_type": "code",
   "execution_count": 2,
   "metadata": {},
   "outputs": [
    {
     "name": "stdout",
     "output_type": "stream",
     "text": [
      "(20,)\n",
      "(20,)\n",
      "(20,)\n",
      "(20, 2)\n",
      "(0, 2)\n",
      "(1, 2)\n"
     ]
    },
    {
     "data": {
      "image/png": "[encoded data removed]",
      "text/plain": [
       "<Figure size 432x288 with 1 Axes>"
      ]
     },
     "metadata": {
      "needs_background": "light"
     },
     "output_type": "display_data"
    }
   ],
   "source": [
    "x = np.linspace(0, 2*np.pi, 20)\n",
    "print(x.shape)\n",
    "cos = np.cos(x)\n",
    "print(cos.shape)\n",
    "sin = np.sin(x)\n",
    "print(sin.shape)\n",
    "\n",
    "p = np.stack((cos, sin), axis = 1)\n",
    "print(p.shape)\n",
    "print(p[0:0].shape)\n",
    "print(p[:1].shape)\n",
    "\n",
    "plt.scatter(p[:,0], p[:,1])\n",
    "plt.axis('equal')\n",
    "plt.show()\n",
    "\n"
   ]
  },
  {
   "cell_type": "markdown",
   "metadata": {},
   "source": [
    "Calculez les distances euclidiennes entre ces 20 points. Vous mettrez le résultat dans une matrice 20x20 nommé `dist`. Pour faire cette question, vous utiliserez les fonctions `pdist` et `squareform` de la librairie *scipy*."
   ]
  },
  {
   "cell_type": "code",
   "execution_count": 3,
   "metadata": {},
   "outputs": [
    {
     "name": "stdout",
     "output_type": "stream",
     "text": [
      "CPU times: user 0 ns, sys: 0 ns, total: 0 ns\n",
      "Wall time: 139 µs\n"
     ]
    }
   ],
   "source": [
    "%%time\n",
    "m = sc.spatial.distance.pdist(p)\n",
    "dist = sc.spatial.distance.squareform(m)"
   ]
  },
  {
   "cell_type": "code",
   "execution_count": 4,
   "metadata": {},
   "outputs": [
    {
     "data": {
      "image/png": "[encoded data removed]",
      "text/plain": [
       "<Figure size 1080x720 with 1 Axes>"
      ]
     },
     "metadata": {
      "needs_background": "light"
     },
     "output_type": "display_data"
    }
   ],
   "source": [
    "plt.figure(figsize = (15,10))\n",
    "plt.imshow(dist,cmap='gray')\n",
    "plt.title('Matrice dist')\n",
    "# Affichage de la grille\n",
    "ax = plt.gca()\n",
    "ax.set_xticks(np.arange(0, 10))\n",
    "ax.set_yticks(np.arange(0, 10))\n",
    "ax.set_xticks(np.arange(-.5, 10, 1), minor=True);\n",
    "ax.set_yticks(np.arange(-.5, 10, 1), minor=True);\n",
    "ax.set_xticklabels(np.arange(10))\n",
    "ax.set_yticklabels(np.arange(10))\n",
    "plt.grid(which='minor')\n",
    "plt.show()"
   ]
  },
  {
   "cell_type": "markdown",
   "metadata": {},
   "source": [
    "### 2.2 Approche avec la librairie numpy\n",
    "\n",
    "Nous allons maintenant cherché à obtenir le même résultat que la partie précédente mais uniquement en utilisant des fonctions de la librairie `numpy`. La solution que l'on va mettre en place n'est pas l'unique solution possible avec cette librairie."
   ]
  },
  {
   "cell_type": "markdown",
   "metadata": {},
   "source": [
    "Créez deux versions de la matrice `p` de dimensions respectivement (1,20,2) et (20,1,2) que vous nommerez `p1` et `p2`."
   ]
  },
  {
   "cell_type": "code",
   "execution_count": 5,
   "metadata": {},
   "outputs": [
    {
     "name": "stdout",
     "output_type": "stream",
     "text": [
      "('Dimensions de p1:', (1, 20, 2), ' Dimensions de p2: ', (20, 1, 2))\n"
     ]
    }
   ],
   "source": [
    "p1 = p[np.newaxis, :, :]\n",
    "p2 = p[:, np.newaxis, :]\n",
    "print('Dimensions de p1:', p1.shape, ' Dimensions de p2: ', p2.shape)"
   ]
  },
  {
   "cell_type": "markdown",
   "metadata": {},
   "source": [
    "En utilisant les deux tableaux `p1` et `p2` et le mécanisme de broadcasting, calculez la soustraction de toutes les valeurs de `p` entre elles. Le résultat se nommera `s` et sera de taille (20,20,2)."
   ]
  },
  {
   "cell_type": "code",
   "execution_count": 6,
   "metadata": {},
   "outputs": [
    {
     "name": "stdout",
     "output_type": "stream",
     "text": [
      "('Dimensions de s: ', (20, 20, 2))\n"
     ]
    }
   ],
   "source": [
    "s = p1 - p2\n",
    "print('Dimensions de s: ', s.shape)"
   ]
  },
  {
   "cell_type": "markdown",
   "metadata": {},
   "source": [
    "Faites la somme des carrés des valeurs de `s` selon le dernier axe. Le résultat se nommera `dist2`."
   ]
  },
  {
   "cell_type": "code",
   "execution_count": 7,
   "metadata": {},
   "outputs": [
    {
     "name": "stdout",
     "output_type": "stream",
     "text": [
      "('Dimmensions de dist2: ', (20, 20))\n"
     ]
    }
   ],
   "source": [
    "dist2 = np.sum((s**2), axis=2)\n",
    "print('Dimmensions de dist2: ', dist2.shape)"
   ]
  },
  {
   "cell_type": "markdown",
   "metadata": {},
   "source": [
    "Faites la racine carrée de tout les valeurs de `dist2`."
   ]
  },
  {
   "cell_type": "code",
   "execution_count": 8,
   "metadata": {},
   "outputs": [],
   "source": [
    "dist2 = np.sqrt(dist2)"
   ]
  },
  {
   "cell_type": "markdown",
   "metadata": {},
   "source": [
    "Comparez les valeurs de `dist` (calculé précédemment avec `pdist` et `squareform`) et les valeurs de `dist2`."
   ]
  },
  {
   "cell_type": "code",
   "execution_count": 9,
   "metadata": {},
   "outputs": [
    {
     "name": "stdout",
     "output_type": "stream",
     "text": [
      "('dist == dist2 ? ', True)\n"
     ]
    }
   ],
   "source": [
    "print('dist == dist2 ? ', (dist==dist2).all())"
   ]
  },
  {
   "cell_type": "markdown",
   "metadata": {},
   "source": [
    "2 - Matrice des distances euclidiennes entre villes\n",
    "------"
   ]
  },
  {
   "cell_type": "markdown",
   "metadata": {},
   "source": [
    "Reprendre dans le code du TP3, la lecture du fichier *data.pickle* et la fonction `distGeo`."
   ]
  },
  {
   "cell_type": "code",
   "execution_count": 10,
   "metadata": {},
   "outputs": [],
   "source": [
    "import pickle\n",
    "\n",
    "# pour lire les données sur disque avec pickle\n",
    "with open('../TP3/data.pickle', 'rb') as f:  \n",
    "    [ville,nom_ville,coord] = pickle.load(f)\n",
    "    \n",
    "R = 6367.445\n",
    "\n",
    "def distGeo(u,v):\n",
    "    u = u*np.pi/180\n",
    "    v = v*np.pi/180\n",
    "    \n",
    "    return R*np.arccos(np.sin(u[0])*np.sin(v[0]) + np.cos(u[0])*np.cos(v[0])*np.cos(u[1] - v[1]))"
   ]
  },
  {
   "cell_type": "markdown",
   "metadata": {},
   "source": [
    "Calculez la distance entre *Caen* et *Rouen*."
   ]
  },
  {
   "cell_type": "code",
   "execution_count": 11,
   "metadata": {},
   "outputs": [
    {
     "name": "stdout",
     "output_type": "stream",
     "text": [
      "('Distance entre Caen et Rouen: ', 107.5056062486595)\n"
     ]
    }
   ],
   "source": [
    "print('Distance entre Caen et Rouen: ', distGeo(coord[ville['Caen']], coord[ville['Rouen']]))"
   ]
  },
  {
   "cell_type": "markdown",
   "metadata": {},
   "source": [
    "Nous allons à présent mettre en place une méthode plus rapide pour calculer la distance entre les différentes villes. Nous allons commencer par représenter les villes par leurs coordonnées 3D, et c'est à partir de ces coordonnées 3D que l'on pourra calculer les distances euclidiennes entre villes. La distance euclidienne est moins précise que la distance géodésique car elle ne prend pas en compte la courbure de la terre mais son calcul est plus rapide. \n",
    "\n",
    "Pour calculer les coordonnées 3D, vous pourrez utiliser les équations suivantes :\n",
    "\n",
    "\\begin{eqnarray*}\n",
    "\tx & = & R \\ \\cos(p_{lat}) \\sin(p_{lon})\\\\\n",
    "\ty & = & R \\ \\cos(p_{lat}) \\cos(p_{lon})\\\\\n",
    "\tz & = & R \\ \\sin(p_{lat})\\\\\n",
    "\\end{eqnarray*}\n",
    "\n",
    "Attention, les angles doivent être en radian et non en degré. "
   ]
  },
  {
   "cell_type": "markdown",
   "metadata": {},
   "source": [
    "Écrivez une fonction `convert3D` qui convertie un tableau de coordonnée de ville selon la latitude et la longitude en un tableau de coordonnée 3D. "
   ]
  },
  {
   "cell_type": "code",
   "execution_count": 12,
   "metadata": {},
   "outputs": [],
   "source": [
    "def convert3D(u): \n",
    "    u = u*np.pi/180\n",
    "    xyz = np.zeros((u.shape[0],3))\n",
    "    xyz[:,0] = R*np.cos(u[:,0])*np.sin(u[:,1])\n",
    "    xyz[:,1] = R*np.cos(u[:,0])*np.cos(u[:,1])\n",
    "    xyz[:,2] = R*np.sin(u[:,0])\n",
    "    return xyz"
   ]
  },
  {
   "cell_type": "markdown",
   "metadata": {},
   "source": [
    "En utilisant la fonction `plt.scatter` de *matplotlib*, affichez chaque ville de Normandie sous la forme de point de coordonnée (x,-y). On ignorera le 3ème axe qui correspond à la distance avec le centre de la terre.   \n",
    "\n",
    "Vous pouvez afficher d'une couleur différente les villes de *Caen* et *Rouen*."
   ]
  },
  {
   "cell_type": "code",
   "execution_count": 21,
   "metadata": {},
   "outputs": [
    {
     "data": {
      "image/png": "[encoded data removed]",
      "text/plain": [
       "<Figure size 720x576 with 1 Axes>"
      ]
     },
     "metadata": {
      "needs_background": "light"
     },
     "output_type": "display_data"
    }
   ],
   "source": [
    "coord_xyz = convert3D(coord)\n",
    "plt.figure(figsize = (10, 8))\n",
    "plt.title('Normandie')\n",
    "\n",
    "plt.scatter(coord_xyz[:,0], -coord_xyz[:,1], color='b')\n",
    "\n",
    "plt.scatter(coord_xyz[ville['Caen'], 0], -coord_xyz[ville['Caen'], 1], color='r', marker='D')\n",
    "plt.scatter(coord_xyz[ville['Rouen'], 0], -coord_xyz[ville['Rouen'], 1], color='y', marker='D')\n",
    "\n",
    "plt.show()"
   ]
  },
  {
   "cell_type": "markdown",
   "metadata": {},
   "source": [
    "Créez une fonction `distEuc` qui calcul la distance euclidienne entre deux villes dont les coordonnées sont en latitude, longitude. Vous utiliserez la fonction `convert3D` pour faire cette fonction. "
   ]
  },
  {
   "cell_type": "code",
   "execution_count": 14,
   "metadata": {},
   "outputs": [],
   "source": [
    "def distEuc(u,v):\n",
    "    xyz = convert3D(np.stack((u,v)))\n",
    "    \n",
    "    return np.sqrt(((xyz[0] - xyz[1])**2).sum())"
   ]
  },
  {
   "cell_type": "markdown",
   "metadata": {},
   "source": [
    "Calculez la distance entre *Caen* et *Rouen* en utilisant `distEuc`. Trouvez-vous le même résultat qu'avec une distance géodésique ? "
   ]
  },
  {
   "cell_type": "code",
   "execution_count": 15,
   "metadata": {},
   "outputs": [
    {
     "name": "stdout",
     "output_type": "stream",
     "text": [
      "('Distance entre Caen et Rouen: ', 107.50432936846148)\n"
     ]
    }
   ],
   "source": [
    "print('Distance entre Caen et Rouen: ', distEuc(coord[ville['Caen']], coord[ville['Rouen']]))"
   ]
  },
  {
   "cell_type": "markdown",
   "metadata": {},
   "source": [
    "3 - Villes les plus proches / Villes les plus loins\n",
    "-----"
   ]
  },
  {
   "cell_type": "markdown",
   "metadata": {},
   "source": [
    "Nous allons écrire un programme qui recherche les 10 villes les plus proches d'une ville donnée. \n",
    "Commencez par calculer la distance entre toutes les villes de Normandie. Pour cela nous allons utiliser les fonctions `pdist` et `squareform` comme au TP 4. Par contre, vous utiliserez l'argument `euclidean` pour la fonction `pdist`et non la fonction `distEuc` écrite plus haut. \n",
    "Attention les coordonnées doivent être sous la forme x,y,z et non latitude/longitude."
   ]
  },
  {
   "cell_type": "code",
   "execution_count": 16,
   "metadata": {},
   "outputs": [
    {
     "name": "stdout",
     "output_type": "stream",
     "text": [
      "CPU times: user 84 ms, sys: 8 ms, total: 92 ms\n",
      "Wall time: 92.2 ms\n"
     ]
    }
   ],
   "source": [
    "%%time\n",
    "md = sc.spatial.distance.pdist(coord_xyz)\n",
    "dist_all = sc.spatial.distance.squareform(md)"
   ]
  },
  {
   "cell_type": "markdown",
   "metadata": {},
   "source": [
    "Récupérez la distance entre *Caen* et les autres villes de Normandie. "
   ]
  },
  {
   "cell_type": "code",
   "execution_count": 17,
   "metadata": {},
   "outputs": [
    {
     "name": "stdout",
     "output_type": "stream",
     "text": [
      "[ 52.90934949  76.30728647 115.45986608 ...  92.5783011   59.51344251\n",
      "  81.12100076]\n"
     ]
    }
   ],
   "source": [
    "dist_caen = dist_all[ville['Caen']]\n",
    "print(dist_caen)"
   ]
  },
  {
   "cell_type": "markdown",
   "metadata": {},
   "source": [
    "En utilisant le dictionnaire `nom_ville` définit au TP 3 et la fonction `np.argsort`, donnez les noms des 10 villes les plus proches de Caen. \n",
    "\n",
    "Vous devriez trouver 'Hérouville-Saint-Clair', 'Louvigny', 'Mondeville', \n",
    "'Saint-Germain-la-Blanche-Herbe', 'Epron', 'Colombelles', 'Fleury-sur-Orne', 'Giberville', 'Bretteville-sur-Odon', 'Saint-Contest'.\n",
    "\n",
    "Vous pouvez utiliser une boucle `for` pour mettre en forme l'affichage."
   ]
  },
  {
   "cell_type": "code",
   "execution_count": 18,
   "metadata": {},
   "outputs": [
    {
     "name": "stdout",
     "output_type": "stream",
     "text": [
      "Affichage sans mise en forme:\n",
      "['H\\xc3\\xa9rouville-Saint-Clair' 'Louvigny' 'Mondeville'\n",
      " 'Saint-Germain-la-Blanche-Herbe' 'Epron' 'Colombelles' 'Fleury-sur-Orne'\n",
      " 'Giberville' 'Bretteville-sur-Odon' 'Saint-Contest']\n",
      "\n",
      "Affichage avec mise en forme:\n",
      "\n",
      "('H\\xc3\\xa9rouville-Saint-Clair', ' est a une distance de ', 3.0482384742029027, 'km de Caen.')\n",
      "('Louvigny', ' est a une distance de ', 3.048818674972801, 'km de Caen.')\n",
      "('Mondeville', ' est a une distance de ', 3.048818674972914, 'km de Caen.')\n",
      "('Saint-Germain-la-Blanche-Herbe', ' est a une distance de ', 3.632049018631149, 'km de Caen.')\n",
      "('Epron', ' est a une distance de ', 3.8972002362645495, 'km de Caen.')\n",
      "('Colombelles', ' est a une distance de ', 4.076539320949933, 'km de Caen.')\n",
      "('Fleury-sur-Orne', ' est a une distance de ', 4.425987619581496, 'km de Caen.')\n",
      "('Giberville', ' est a une distance de ', 4.842756118981385, 'km de Caen.')\n",
      "('Bretteville-sur-Odon', ' est a une distance de ', 5.185615579429779, 'km de Caen.')\n",
      "('Saint-Contest', ' est a une distance de ', 5.187122224035128, 'km de Caen.')\n"
     ]
    }
   ],
   "source": [
    "indice_all = np.argsort(dist_caen)\n",
    "print('Affichage sans mise en forme:')\n",
    "print(nom_ville[indice_all[1:11]])\n",
    "\n",
    "print('')\n",
    "print('Affichage avec mise en forme:')\n",
    "print('')\n",
    "\n",
    "for i in (indice_all[1:11]):\n",
    "    print(nom_ville[i], ' est a une distance de ', dist_caen[i], 'km de Caen.')"
   ]
  },
  {
   "cell_type": "markdown",
   "metadata": {},
   "source": [
    "Vous ferez de même avec le calcul des 10 villes les plus éloignées de *Rouen*."
   ]
  },
  {
   "cell_type": "code",
   "execution_count": 19,
   "metadata": {},
   "outputs": [
    {
     "name": "stdout",
     "output_type": "stream",
     "text": [
      "Affichage sans mise en forme:\n",
      "['Auderville' 'Saint-Germain-des-Vaux' 'Jobourg' 'Omonville-la-Petite'\n",
      " 'Herqueville' 'Digulleville' 'Pontorson' 'Omonville-la-Rogue'\n",
      " 'Flamanville' 'Beaumont-Hague']\n",
      "\n",
      "Affichage avec mise en forme:\n",
      "\n",
      "('Auderville', ' est a une distance de ', 219.43059279145356, 'km de Rouen.')\n",
      "('Saint-Germain-des-Vaux', ' est a une distance de ', 218.6697424194938, 'km de Rouen.')\n",
      "('Jobourg', ' est a une distance de ', 217.0952444179413, 'km de Rouen.')\n",
      "('Omonville-la-Petite', ' est a une distance de ', 215.84623980655178, 'km de Rouen.')\n",
      "('Herqueville', ' est a une distance de ', 215.4416622840976, 'km de Rouen.')\n",
      "('Digulleville', ' est a une distance de ', 214.65685375889106, 'km de Rouen.')\n",
      "('Pontorson', ' est a une distance de ', 213.47724621396222, 'km de Rouen.')\n",
      "('Omonville-la-Rogue', ' est a une distance de ', 213.46751994680545, 'km de Rouen.')\n",
      "('Flamanville', ' est a une distance de ', 213.2549050096577, 'km de Rouen.')\n",
      "('Beaumont-Hague', ' est a une distance de ', 213.0567818654885, 'km de Rouen.')\n"
     ]
    }
   ],
   "source": [
    "dist_r = dist_all[ville['Rouen']]\n",
    "indice_all_r = np.argsort(dist_r)\n",
    "\n",
    "print('Affichage sans mise en forme:')\n",
    "print(nom_ville[indice_all_r[-1: -11:-1]])\n",
    "\n",
    "print('')\n",
    "print('Affichage avec mise en forme:')\n",
    "print('')\n",
    "\n",
    "for i in (indice_all_r[-1: -11:-1]):\n",
    "    print(nom_ville[i], ' est a une distance de ', dist_r[i], 'km de Rouen.')"
   ]
  },
  {
   "cell_type": "markdown",
   "metadata": {},
   "source": [
    "**Question bonus**: Affichez les villes de Normandie et mettez des couleurs pour *Caen*, *Rouen*, les 10 villes les plus proches de *Caen* et les 10 villes les plus loin de *Rouen*."
   ]
  },
  {
   "cell_type": "code",
   "execution_count": null,
   "metadata": {},
   "outputs": [],
   "source": []
  },
  {
   "cell_type": "markdown",
   "metadata": {},
   "source": [
    "4 - Histogramme des distances des villes\n",
    "----"
   ]
  },
  {
   "cell_type": "markdown",
   "metadata": {},
   "source": [
    "Au moyen de la fonction `np.histogram`(voir le TP2) calculez et affichez l’histogramme des distances entre villes de Normandie."
   ]
  },
  {
   "cell_type": "code",
   "execution_count": null,
   "metadata": {},
   "outputs": [],
   "source": []
  }
 ],
 "metadata": {
  "kernelspec": {
   "display_name": "Python 3",
   "language": "python",
   "name": "python3"
  },
  "language_info": {
   "codemirror_mode": {
    "name": "ipython",
    "version": 3
   },
   "file_extension": ".py",
   "mimetype": "text/x-python",
   "name": "python",
   "nbconvert_exporter": "python",
   "pygments_lexer": "ipython3",
   "version": "3.6.5"
  }
 },
 "nbformat": 4,
 "nbformat_minor": 2
}
