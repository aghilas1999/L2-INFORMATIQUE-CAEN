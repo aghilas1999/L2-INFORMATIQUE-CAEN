{
 "cells": [
  {
   "cell_type": "markdown",
   "metadata": {},
   "source": [
    " TP  noté 1 Groupe 3B : Les villes de Normandie\n",
    " ====="
   ]
  },
  {
   "cell_type": "markdown",
   "metadata": {},
   "source": [
    "1 - Introduction \n",
    "------\n",
    "\n",
    "\n",
    "L’objectif de ce TP est de faire une synthèse des notions abordées dans les précédents TP.\n",
    "\n",
    "Le TP sera à réaliser en python 3. Les librairies utilisées sont installées sur les machines de l'université, vous pouvez néanmoins les installer sur vos propres machines à l'aide de l'utilitaire pip présent par défaut avec python.\n",
    "\t\n",
    "**<span style=\"color:red\"> À part si cela est précisé, vous ne devez pas utiliser directement de boucle (`for`,`while`) ou de branchement conditionnel (`if`) durant ce TP.</span>.**\n",
    "\n",
    "**<span style=\"color:red\"> \n",
    "Ce TP sera noté. Vous rendrez le code que vous avez réalisé en fin de séance sur la plateforme ecampus. N’oubliez pas de mettre votre nom et votre numéro d’étudiant dans les commentaires du fichier. Vous rendrez également un compte-rendu de TP où vous présenterez ce que vous avez fait et répondrez aux questions du TP. Vous mettrez le plus d’images possible pour illustrer vos explications. Ce rapport est à rendre sur ecampus dans un délai d’une semaine. Aucun rendu par mail n’est accepté.</span>**\n",
    "\n",
    "**<span style=\"color:blue\"> Ce sujet utilise des générateurs aléatoires. Il est donc normal que vous n'obteniez pas exactement les même valeurs que les exemples de résultat donnée.</span>**"
   ]
  },
  {
   "cell_type": "raw",
   "metadata": {},
   "source": [
    "Nom: \n",
    "Prénom:\n",
    "Numéro d'étudiant:"
   ]
  },
  {
   "cell_type": "code",
   "execution_count": 38,
   "metadata": {},
   "outputs": [],
   "source": [
    "import numpy as np\n",
    "import scipy as sc\n",
    "import scipy.spatial\n",
    "import matplotlib.pyplot as plt\n",
    "import pickle"
   ]
  },
  {
   "cell_type": "markdown",
   "metadata": {},
   "source": [
    "2 - Chargement et prétraitement des données\n",
    "---"
   ]
  },
  {
   "cell_type": "markdown",
   "metadata": {},
   "source": [
    "Lisez le fichier `coord_villes.npy` dans une variable `coord`. Vous aurez les coordonnées des villes de Normandie selon deux axes."
   ]
  },
  {
   "cell_type": "code",
   "execution_count": 39,
   "metadata": {},
   "outputs": [],
   "source": [
    "coord=np.load('coord_villes.npy')"
   ]
  },
  {
   "cell_type": "markdown",
   "metadata": {},
   "source": [
    "Affichez ces villes en bleu sur une figure. Affichez Carentan(665) en rouge ,et  Caen(4), Alençon (1218), Rouen(2297), Saint-lô(751), Evreux(1712) en couleur \"chartreuse\".!"
   ]
  },
  {
   "cell_type": "code",
   "execution_count": 40,
   "metadata": {
    "scrolled": true
   },
   "outputs": [
    {
     "data": {
      "image/png": "[encoded data removed]",
      "text/plain": [
       "<Figure size 432x288 with 1 Axes>"
      ]
     },
     "metadata": {
      "needs_background": "light"
     },
     "output_type": "display_data"
    }
   ],
   "source": [
    "#color \"la couleur de notre point ou ville\"\n",
    "#marker \"la forme de le point qu'on veut affiché\" \n",
    "#alpha \"cest la valeur de fusion comprise entre 0(transparent) et 1(opaque)\"\n",
    "plt.scatter(coord[:,0],coord[:,1])\n",
    "plt.scatter(coord[665,0],coord[665,1], color='r',marker='s',s=50,alpha=1)\n",
    "plt.scatter(coord[4,0],coord[4,1], color='r',marker='s',s=50,alpha=1)\n",
    "plt.scatter(coord[1218,0],coord[1218,1], color='r',marker='s',s=50,alpha=1)\n",
    "plt.scatter(coord[2297,0],coord[2297,1], color='r',marker='s',s=50,alpha=1)\n",
    "plt.scatter(coord[751,0],coord[51,1], color='r',marker='s',s=50,alpha=1)\n",
    "plt.scatter(coord[1712,0],coord[1712,1], color='r',marker='s',s=50,alpha=1)\n",
    "plt.show()"
   ]
  },
  {
   "cell_type": "markdown",
   "metadata": {},
   "source": [
    "Calculez la distance euclidienne entre toutes les villes de Normandie. Le résultat sera sous la forme d'une matrice `dist` dont les coordonnées $i,j$ donne la distance entre la ville $i$ et la ville $j$."
   ]
  },
  {
   "cell_type": "code",
   "execution_count": 41,
   "metadata": {},
   "outputs": [
    {
     "name": "stdout",
     "output_type": "stream",
     "text": [
      "[[  0.          12.10277222  13.82309128 ... 181.34686312 171.42639059\n",
      "  159.19205588]\n",
      " [ 12.10277222   0.           3.8971987  ... 170.33084076 160.53971205\n",
      "  148.58008512]\n",
      " [ 13.82309128   3.8971987    0.         ... 170.8573325  161.17219084\n",
      "  149.41680936]\n",
      " ...\n",
      " [181.34686312 170.33084076 170.8573325  ...   0.          10.75232354\n",
      "   25.15269187]\n",
      " [171.42639059 160.53971205 161.17219084 ...  10.75232354   0.\n",
      "   14.45313695]\n",
      " [159.19205588 148.58008512 149.41680936 ...  25.15269187  14.45313695\n",
      "    0.        ]]\n"
     ]
    }
   ],
   "source": [
    "m = sc.spatial.distance.pdist(coord, 'euclidean')\n",
    "dist = sc.spatial.distance.squareform(m)\n",
    "print(dist)"
   ]
  },
  {
   "cell_type": "markdown",
   "metadata": {},
   "source": [
    "Carentan est la ville d'indice 665. Récupérez les indices des 50 villes les plus proches de Carentan.!"
   ]
  },
  {
   "cell_type": "code",
   "execution_count": 42,
   "metadata": {},
   "outputs": [],
   "source": [
    "indice_Carentan = 665"
   ]
  },
  {
   "cell_type": "code",
   "execution_count": 45,
   "metadata": {},
   "outputs": [
    {
     "ename": "NameError",
     "evalue": "name 'indices' is not defined",
     "output_type": "error",
     "traceback": [
      "\u001b[1;31m---------------------------------------------------------------------------\u001b[0m",
      "\u001b[1;31mNameError\u001b[0m                                 Traceback (most recent call last)",
      "\u001b[1;32m<ipython-input-45-6f79a07a9d76>\u001b[0m in \u001b[0;36m<module>\u001b[1;34m\u001b[0m\n\u001b[0;32m      1\u001b[0m \u001b[0mindices_caran\u001b[0m \u001b[1;33m=\u001b[0m \u001b[0mnp\u001b[0m\u001b[1;33m.\u001b[0m\u001b[0margsort\u001b[0m\u001b[1;33m(\u001b[0m\u001b[0mindice_Carentan\u001b[0m\u001b[1;33m)\u001b[0m\u001b[1;33m\u001b[0m\u001b[1;33m\u001b[0m\u001b[0m\n\u001b[1;32m----> 2\u001b[1;33m \u001b[0mcoord_proche_Carentan\u001b[0m\u001b[1;33m=\u001b[0m\u001b[0mcoord\u001b[0m\u001b[1;33m[\u001b[0m\u001b[0mindices\u001b[0m\u001b[1;33m[\u001b[0m\u001b[1;36m1\u001b[0m\u001b[1;33m:\u001b[0m\u001b[1;36m11\u001b[0m\u001b[1;33m]\u001b[0m\u001b[1;33m]\u001b[0m\u001b[1;33m\u001b[0m\u001b[1;33m\u001b[0m\u001b[0m\n\u001b[0m\u001b[0;32m      3\u001b[0m \u001b[0mcoord_proche_Carentan\u001b[0m\u001b[1;33m\u001b[0m\u001b[1;33m\u001b[0m\u001b[0m\n",
      "\u001b[1;31mNameError\u001b[0m: name 'indices' is not defined"
     ]
    }
   ],
   "source": [
    "indices_caran = np.argsort(indice_Carentan)\n",
    "coord_proche_Carentan=coord[indices[1:11]]\n",
    "coord_proche_Carentan"
   ]
  },
  {
   "cell_type": "markdown",
   "metadata": {},
   "source": [
    "Définissez les variables `coord_proche_Carentan` et `dist_proche_Carentan` contenant respectivement les coordonnées des 50 villes les plus proches de Carentan et les distances entre toutes ces villes. "
   ]
  },
  {
   "cell_type": "code",
   "execution_count": 46,
   "metadata": {},
   "outputs": [
    {
     "ename": "NameError",
     "evalue": "name 'dist_carentan' is not defined",
     "output_type": "error",
     "traceback": [
      "\u001b[1;31m---------------------------------------------------------------------------\u001b[0m",
      "\u001b[1;31mNameError\u001b[0m                                 Traceback (most recent call last)",
      "\u001b[1;32m<ipython-input-46-68674571c1bf>\u001b[0m in \u001b[0;36m<module>\u001b[1;34m\u001b[0m\n\u001b[1;32m----> 1\u001b[1;33m \u001b[0mindices_caran\u001b[0m \u001b[1;33m=\u001b[0m \u001b[0mnp\u001b[0m\u001b[1;33m.\u001b[0m\u001b[0margsort\u001b[0m\u001b[1;33m(\u001b[0m\u001b[0mdist_carentan\u001b[0m\u001b[1;33m)\u001b[0m\u001b[1;33m\u001b[0m\u001b[1;33m\u001b[0m\u001b[0m\n\u001b[0m\u001b[0;32m      2\u001b[0m \u001b[0mcoord_proche_Carentan\u001b[0m\u001b[1;33m=\u001b[0m\u001b[0mcoord\u001b[0m\u001b[1;33m[\u001b[0m\u001b[0mindices\u001b[0m\u001b[1;33m[\u001b[0m\u001b[1;36m1\u001b[0m\u001b[1;33m:\u001b[0m\u001b[1;36m51\u001b[0m\u001b[1;33m]\u001b[0m\u001b[1;33m]\u001b[0m\u001b[1;33m\u001b[0m\u001b[1;33m\u001b[0m\u001b[0m\n\u001b[0;32m      3\u001b[0m \u001b[1;33m\u001b[0m\u001b[0m\n\u001b[0;32m      4\u001b[0m \u001b[0mdist_proche_Carentan\u001b[0m\u001b[1;33m=\u001b[0m\u001b[0msc\u001b[0m\u001b[1;33m.\u001b[0m\u001b[0mspatial\u001b[0m\u001b[1;33m.\u001b[0m\u001b[0mdistance\u001b[0m\u001b[1;33m.\u001b[0m\u001b[0msquareform\u001b[0m\u001b[1;33m(\u001b[0m\u001b[0msc\u001b[0m\u001b[1;33m.\u001b[0m\u001b[0mspatial\u001b[0m\u001b[1;33m.\u001b[0m\u001b[0mdistance\u001b[0m\u001b[1;33m.\u001b[0m\u001b[0mpdist\u001b[0m\u001b[1;33m(\u001b[0m\u001b[0mcoord_proche_Carentan\u001b[0m\u001b[1;33m,\u001b[0m \u001b[1;34m'euclidean'\u001b[0m\u001b[1;33m)\u001b[0m\u001b[1;33m)\u001b[0m\u001b[1;33m\u001b[0m\u001b[1;33m\u001b[0m\u001b[0m\n\u001b[0;32m      5\u001b[0m \u001b[1;33m\u001b[0m\u001b[0m\n",
      "\u001b[1;31mNameError\u001b[0m: name 'dist_carentan' is not defined"
     ]
    }
   ],
   "source": [
    "indices_caran = np.argsort(dist_carentan)\n",
    "coord_proche_Carentan=coord[indices[1:51]]\n",
    "\n",
    "dist_proche_Carentan=sc.spatial.distance.squareform(sc.spatial.distance.pdist(coord_proche_Carentan, 'euclidean'))\n",
    "\n",
    "print(\"coord_proche_Carentan\",coord_proche_Carentan)\n",
    "print(\"dist_proche_Carentan\",dist_proche_Carentan)"
   ]
  },
  {
   "cell_type": "markdown",
   "metadata": {},
   "source": [
    "Affichez sur une figure les 50 villes les plus proches de Carentan en bleu et la ville de Carentan en rouge.![texte alternatif](Carentan_50voisine.png)\n"
   ]
  },
  {
   "cell_type": "code",
   "execution_count": 77,
   "metadata": {},
   "outputs": [
    {
     "ename": "NameError",
     "evalue": "name 'dist_rouen' is not defined",
     "output_type": "error",
     "traceback": [
      "\u001b[0;31m---------------------------------------------------------------------------\u001b[0m",
      "\u001b[0;31mNameError\u001b[0m                                 Traceback (most recent call last)",
      "\u001b[0;32m<ipython-input-77-8a74890b3ad2>\u001b[0m in \u001b[0;36m<module>\u001b[0;34m()\u001b[0m\n\u001b[1;32m      2\u001b[0m \u001b[0mindices_caran\u001b[0m \u001b[0;34m=\u001b[0m \u001b[0mnp\u001b[0m\u001b[0;34m.\u001b[0m\u001b[0margsort\u001b[0m\u001b[0;34m(\u001b[0m\u001b[0mdist_carentan\u001b[0m\u001b[0;34m)\u001b[0m\u001b[0;34m\u001b[0m\u001b[0m\n\u001b[1;32m      3\u001b[0m \u001b[0mvilles_proche\u001b[0m\u001b[0;34m=\u001b[0m\u001b[0mcoord\u001b[0m\u001b[0;34m[\u001b[0m\u001b[0mindices\u001b[0m\u001b[0;34m[\u001b[0m\u001b[0;36m1\u001b[0m\u001b[0;34m:\u001b[0m\u001b[0;36m51\u001b[0m\u001b[0;34m]\u001b[0m\u001b[0;34m]\u001b[0m\u001b[0;34m\u001b[0m\u001b[0m\n\u001b[0;32m----> 4\u001b[0;31m \u001b[0mvilles_eloigne\u001b[0m\u001b[0;34m=\u001b[0m \u001b[0mnp\u001b[0m\u001b[0;34m.\u001b[0m\u001b[0margsort\u001b[0m\u001b[0;34m(\u001b[0m\u001b[0mdist_rouen\u001b[0m\u001b[0;34m)\u001b[0m\u001b[0;34m[\u001b[0m\u001b[0;34m-\u001b[0m\u001b[0;36m1\u001b[0m\u001b[0;34m:\u001b[0m \u001b[0;34m-\u001b[0m\u001b[0;36m51\u001b[0m\u001b[0;34m:\u001b[0m\u001b[0;34m-\u001b[0m\u001b[0;36m1\u001b[0m\u001b[0;34m]\u001b[0m\u001b[0;34m\u001b[0m\u001b[0m\n\u001b[0m\u001b[1;32m      5\u001b[0m \u001b[0;34m\u001b[0m\u001b[0m\n\u001b[1;32m      6\u001b[0m \u001b[0;34m\u001b[0m\u001b[0m\n",
      "\u001b[0;31mNameError\u001b[0m: name 'dist_rouen' is not defined"
     ]
    }
   ],
   "source": [
    "dist_carentan = dist[665]\n",
    "indices_caran = np.argsort(dist_carentan)\n",
    "villes_proche=coord[indices[1:51]]\n",
    "villes_eloigne= np.argsort(dist_rouen)[-1: -51:-1]\n",
    "\n",
    "\n",
    "dist_Rouen = dist[indice_Rouen]\n",
    "indices_caran = np.argsort(dist_Rouen)\n",
    "print(coord[indices_caran[1:41]])\n",
    "\n",
    "\n",
    "dist_rouen = dist[ville['Rouen']]\n",
    "#indices_rouen = np.argsort(dist_rouen)[-1: -51:-1]\n",
    "#indices_caen = np.argsort(dist_caen)[1:51]\n",
    "\n",
    "\n",
    "plt.scatter(coord_xyz[:,0],-coord_xyz[:,1],color='b');\n",
    "\n",
    "#plt.scatter(coord_xyz[ville['Caen'], 0],-coord_xyz[ville['Caen'],1], color='green');\n",
    "#plt.scatter(coord_xyz[ville['Rouen'], 0],-coord_xyz[ville['Rouen'],1],color='y');\n",
    "\n",
    "                  \n",
    "#plt.scatter(coord_xyz[indices_rouen, 0],-coord_xyz[indices_rouen,1],color='red');\n",
    "#plt.scatter(coord_xyz[indices_caen, 0],-coord_xyz[indices_caen,1],color='black');\n",
    "\n",
    "plt.show()"
   ]
  },
  {
   "cell_type": "markdown",
   "metadata": {},
   "source": [
    "3 - Visualition d'un propagation\n",
    "---\n",
    "\n",
    "Nous allons dans ce TP visualiser la propagation d'un phénomène entre les villes proches de Carentan."
   ]
  },
  {
   "cell_type": "markdown",
   "metadata": {},
   "source": [
    "Tirez 5 entiers entre 0 et 50 non compris que vous placerez dans un tableau nommée `i_villes_src`.\n",
    "Numéro de villes choisies:  [ 7 37 15 35  4]"
   ]
  },
  {
   "cell_type": "code",
   "execution_count": null,
   "metadata": {},
   "outputs": [],
   "source": [
    "i_villes_src=np.random.randint(1, 50, 5)\n",
    "print(i_villes_src)"
   ]
  },
  {
   "cell_type": "raw",
   "metadata": {},
   "source": [
    "Définissez un tableau `villes_src` de taille 50 qui contient True pour les 5 indices précédemment choisi et False sinon.\n",
    "villes_src: [False False False False False  True False False False False False False\n",
    " False False False False False False False  True  True False  True False\n",
    " False False False False False False False False False False False False\n",
    " False False False  True False False False False False False False False\n",
    " False False]\n",
    "[[ True  True False ..., False False False]\n",
    " [ True  True False ..., False False False]\n",
    " [False  True  True ..., False False False]\n",
    " ..., \n",
    " [False False False ...,  True False False]\n",
    " [False False False ..., False  True False]\n",
    " [False False False ..., False False  True]]\n"
   ]
  },
  {
   "cell_type": "code",
   "execution_count": null,
   "metadata": {},
   "outputs": [],
   "source": [
    "ville_src = np.eye(50)"
   ]
  },
  {
   "cell_type": "markdown",
   "metadata": {},
   "source": [
    "Définissez un variable $s$ égale à 4. Vous pourrez changer par la suite cette valeur pour accélérer ou ralentir la propagation."
   ]
  },
  {
   "cell_type": "code",
   "execution_count": null,
   "metadata": {},
   "outputs": [],
   "source": [
    "s=4"
   ]
  },
  {
   "cell_type": "raw",
   "metadata": {},
   "source": [
    "Tirez selon une loi normale centrée réduite les valeurs d’une matrice nommée `villes_choisie_propagation`. Cette matrice aura la même taille que la matrice `dist_proche_Carentan`. Elle va nous permettre de choisir les villes où à lieu la propagation en fonction de leurs distances aux villes initiales."
   ]
  },
  {
   "cell_type": "code",
   "execution_count": null,
   "metadata": {},
   "outputs": [],
   "source": []
  },
  {
   "cell_type": "markdown",
   "metadata": {},
   "source": [
    "Multipliez les valeurs de la matrice `villes_choisie_propagation` par $s$ pour fixer la vitesse de propagation. "
   ]
  },
  {
   "cell_type": "code",
   "execution_count": null,
   "metadata": {},
   "outputs": [],
   "source": []
  },
  {
   "cell_type": "raw",
   "metadata": {},
   "source": [
    "Construisez une nouvelle matrice `villes_apres_propagation` qui contient True pour les valeurs dans `villes_choisie_propagation` dont la valeur absolue est plus grande que les valeurs dans `dist_proche_Carentan` et False pour les autres. Cette matrice permet de connaître de quelles villes et vers quelles villes se font les propagations. \n",
    "Les villes selon les lignes indiquent les villes sources, les villes en colonnes sont les villes destinations. Pour l'instant on considère que toute ville peut être source. \n",
    "en utilisant la fonction affichediffusion, afficher la matrice villes_apres_propagation."
   ]
  },
  {
   "cell_type": "code",
   "execution_count": null,
   "metadata": {},
   "outputs": [],
   "source": [
    "def affichediffusion(villes_apres_propagation,legende):\n",
    "    plt.figure(figsize=(15,15))\n",
    "    plt.imshow(villes_apres_propagation,cmap='gray')\n",
    "    plt.title(legende)\n",
    "    # Affichage de la grille\n",
    "    ax = plt.gca()\n",
    "    ax.set_xticks(np.arange(0, 50))\n",
    "    ax.set_yticks(np.arange(0, 50))\n",
    "    ax.set_xticks(np.arange(-.5, 50, 1), minor=True);\n",
    "    ax.set_yticks(np.arange(-.5, 50, 1), minor=True);\n",
    "    ax.set_xticklabels(np.arange(50))\n",
    "    ax.set_yticklabels(np.arange(50))\n",
    "    plt.grid(which='minor')\n",
    "    plt.show()\n"
   ]
  },
  {
   "cell_type": "markdown",
   "metadata": {},
   "source": [
    "Déclarez une variable `villes_apres_propagation2` qui est égale `villes_apres_propagation` auquel on soustrait une matrice identité de même dimension.  en utilisant la fonction affichediffusion, afficher la matrice villes_apres_propagation2. ![texte alernatif](3B_villes_apres_propagation2.png)"
   ]
  },
  {
   "cell_type": "code",
   "execution_count": null,
   "metadata": {},
   "outputs": [],
   "source": [
    "\n"
   ]
  },
  {
   "cell_type": "markdown",
   "metadata": {},
   "source": [
    "En utilisant la matrice`ville_src`et `villes_apres_propagation2`, construisez une matrice g semblable à `villes_apres_propagation2` dont seul les lignes correspondant aux villes sources contiennent des valeurs différentes de 0. en utilisant la fonction affichediffusion, afficher la matrice g.![texte alernatif](3B_g.png)"
   ]
  },
  {
   "cell_type": "code",
   "execution_count": null,
   "metadata": {},
   "outputs": [],
   "source": [
    "\n"
   ]
  },
  {
   "cell_type": "markdown",
   "metadata": {},
   "source": [
    "Construisez un vecteur `villes_dest` recensant toutes les villes destinations. Ce vecteur contiendra True aux positions des villes destinations et False pour les autres. Pour répondre, vous utiliserez notamment une sommation bien choisie sur la matrice précédente."
   ]
  },
  {
   "cell_type": "code",
   "execution_count": null,
   "metadata": {},
   "outputs": [],
   "source": []
  },
  {
   "cell_type": "markdown",
   "metadata": {},
   "source": [
    "Affichez avec des carrés bleus les 50 villes proches de Carentan, avec des ronds rouges les villes sources et avec des carrés verts les villes destinations. Un affichage qui répond aux contraintes précédentes et qui ne serait pas exactement similaire au rendu du sujet, convient parfaitement. ![texte alernatif](3B_diffusion_1.png)"
   ]
  },
  {
   "cell_type": "code",
   "execution_count": null,
   "metadata": {},
   "outputs": [],
   "source": []
  },
  {
   "cell_type": "markdown",
   "metadata": {},
   "source": [
    "4 - Graphe de propagation\n",
    "---\n",
    "\n",
    "L'objectif de cette partie est de visualiser dans quel sens se font les propagations. Nous souhaitons créé un graphe permettant de visualiser avec des flèches les villes sources et destinations de nos propagations. "
   ]
  },
  {
   "cell_type": "raw",
   "metadata": {},
   "source": [
    "Définir une fonction affichetab(a) qui affiche les dimensions puis les valeurs d'un tableau a."
   ]
  },
  {
   "cell_type": "code",
   "execution_count": null,
   "metadata": {},
   "outputs": [],
   "source": []
  },
  {
   "cell_type": "markdown",
   "metadata": {},
   "source": [
    "Créez un vecteur de valeurs de 0 à 50 non compris que vous nommerez `noeuds`. Ce vecteur liste les numéros de villes."
   ]
  },
  {
   "cell_type": "code",
   "execution_count": null,
   "metadata": {},
   "outputs": [],
   "source": [
    "\n"
   ]
  },
  {
   "cell_type": "markdown",
   "metadata": {},
   "source": [
    "Créez une matrice de la même taille que `g` indiquant les noeuds sources possible. Vous nommerez cette matrice `a`."
   ]
  },
  {
   "cell_type": "code",
   "execution_count": null,
   "metadata": {},
   "outputs": [],
   "source": [
    "\n"
   ]
  },
  {
   "cell_type": "raw",
   "metadata": {},
   "source": [
    "Concaténez `a.T` et `a` selon l'axe de profondeur."
   ]
  },
  {
   "cell_type": "code",
   "execution_count": null,
   "metadata": {},
   "outputs": [],
   "source": []
  },
  {
   "cell_type": "markdown",
   "metadata": {},
   "source": [
    "Redimensionnez la matrice précédente pour ne garder que les lignes et 2 colonnes. Vous nommerez cette matrice `i_noeuds`."
   ]
  },
  {
   "cell_type": "code",
   "execution_count": null,
   "metadata": {},
   "outputs": [],
   "source": []
  },
  {
   "cell_type": "markdown",
   "metadata": {},
   "source": [
    "En utilisant la matrice précédente. Faites une liste de tout les propagations. La première colonne indique le numéro de la ville source et la deuxième colonne le numéro de la ville destination. Vous nommerez cette matrice `fleches`."
   ]
  },
  {
   "cell_type": "code",
   "execution_count": null,
   "metadata": {},
   "outputs": [],
   "source": []
  },
  {
   "cell_type": "markdown",
   "metadata": {},
   "source": [
    "A votre avis que fait la fonction suivante ? "
   ]
  },
  {
   "cell_type": "code",
   "execution_count": null,
   "metadata": {},
   "outputs": [],
   "source": [
    "def printGraph(coord,fleches,villes_src):\n",
    "    plt.figure(figsize=(15,15))\n",
    "    ax = plt.axes()\n",
    "        \n",
    "    ax.axis('equal')\n",
    "    ax.quiver(coord[fleches[:,0],0], \n",
    "              coord[fleches[:,0],1],\n",
    "              coord[fleches[:,1],0]-coord[fleches[:,0],0],\n",
    "              coord[fleches[:,1],1]-coord[fleches[:,0],1],\n",
    "              scale=1.1, units='xy',\n",
    "              headwidth = 7\n",
    "    )\n",
    "    \n",
    "    ax.scatter(coord[:,0],coord[:,1],s=100)\n",
    "    ax.scatter(coord[villes_src,0],coord[villes_src,1],s=100,color='r')\n",
    "    plt.show()"
   ]
  },
  {
   "cell_type": "raw",
   "metadata": {},
   "source": [
    "À remplir"
   ]
  },
  {
   "cell_type": "markdown",
   "metadata": {},
   "source": [
    "Utilisez la fonction précédente avec les données du TP. ![texte alternatif](3B_diffusion2.png)"
   ]
  },
  {
   "cell_type": "code",
   "execution_count": null,
   "metadata": {},
   "outputs": [],
   "source": []
  },
  {
   "cell_type": "markdown",
   "metadata": {},
   "source": [
    "Question bonus: Mixez les deux types d'affichage utilisé dans ce TP pour obtenir l'affichage suivant:"
   ]
  },
  {
   "cell_type": "code",
   "execution_count": null,
   "metadata": {},
   "outputs": [],
   "source": [
    "\n",
    "\n"
   ]
  }
 ],
 "metadata": {
  "kernelspec": {
   "display_name": "Python 3",
   "language": "python",
   "name": "python3"
  },
  "language_info": {
   "codemirror_mode": {
    "name": "ipython",
    "version": 3
   },
   "file_extension": ".py",
   "mimetype": "text/x-python",
   "name": "python",
   "nbconvert_exporter": "python",
   "pygments_lexer": "ipython3",
   "version": "3.7.4"
  }
 },
 "nbformat": 4,
 "nbformat_minor": 2
}
