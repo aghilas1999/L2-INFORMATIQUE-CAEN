{
 "cells": [
  {
   "cell_type": "markdown",
   "metadata": {},
   "source": [
    " TP  noté 1 : La propagation d'un phénomène près de Granville\n",
    " ====="
   ]
  },
  {
   "cell_type": "markdown",
   "metadata": {},
   "source": [
    "1 - Introduction \n",
    "------\n",
    "\n",
    "\n",
    "L’objectif de ce TP est de faire une synthèse des notions abordées dans les précédents TP.\n",
    "\n",
    "Le TP sera à réaliser en python 3. Les librairies utilisées sont installées sur les machines de l'université, vous pouvez néanmoins les installer sur vos propres machines à l'aide de l'utilitaire pip présent par défaut avec python.\n",
    "\t\n",
    "**<span style=\"color:red\"> À part si cela est précisé, vous ne devez pas utiliser directement de boucle (`for`,`while`) ou de branchement conditionnel (`if`) durant ce TP.</span>.**\n",
    "\n",
    "**<span style=\"color:red\"> \n",
    "Ce TP sera noté. Vous rendrez le code que vous avez réalisé en fin de séance sur la plateforme ecampus. N’oubliez pas de mettre votre nom et votre numéro d’étudiant dans les commentaires du fichier. Vous rendrez également un compte-rendu de TP où vous présenterez ce que vous avez fait et répondrez aux questions du TP. Vous mettrez le plus d’images possible pour illustrer vos explications. Ce rapport est à rendre sur ecampus dans un délai d’une semaine. Aucun rendu par mail n’est accepté.</span>**\n",
    "\n",
    "**<span style=\"color:blue\"> Ce sujet utilise des générateurs aléatoires. Il est donc normal que vous n'obteniez pas exactement les même valeurs que les exemples de résultat donnée.</span>**"
   ]
  },
  {
   "cell_type": "raw",
   "metadata": {},
   "source": [
    "Nom:BAH\n",
    "Prénom: MAIMOUNA BELLA\n",
    "Numéro d'étudiant: 21813889"
   ]
  },
  {
   "cell_type": "code",
   "execution_count": 23,
   "metadata": {},
   "outputs": [],
   "source": [
    "import numpy as np\n",
    "import scipy as sc\n",
    "import scipy.spatial\n",
    "import matplotlib.pyplot as plt\n",
    "import pickle"
   ]
  },
  {
   "cell_type": "markdown",
   "metadata": {},
   "source": [
    "2 - Affichage des villes de la Manche\n",
    "---"
   ]
  },
  {
   "cell_type": "markdown",
   "metadata": {},
   "source": [
    "Vous avez a votre disposition le fichier \"villes_normandie.csv\". En utilisant l'instruction np.loadtxt, créez une matrice numpy LLD dont chaque ligne représente une ville, la première colonne contient le numéro du département, la seconde la latitude et la troisième colonne la longitude."
   ]
  },
  {
   "cell_type": "code",
   "execution_count": 24,
   "metadata": {},
   "outputs": [
    {
     "name": "stdout",
     "output_type": "stream",
     "text": [
      "(2992, 3)\n"
     ]
    }
   ],
   "source": [
    "LLD = np.loadtxt('villes_normandie.csv', delimiter=';', usecols=(4,11,12), skiprows=1)\n",
    "print (LLD.shape)"
   ]
  },
  {
   "cell_type": "markdown",
   "metadata": {},
   "source": [
    "En utilisant la matrice LLD, créez deux matrices numpy. La première coordN ou chaque ligne contient la latitude\n",
    "et la longitude de tous les villes de Normandie. La seconde coordMa ou chaque ligne contient \n",
    "la latitude et la longitude uniquement des villes du département de la Manche."
   ]
  },
  {
   "cell_type": "code",
   "execution_count": 25,
   "metadata": {},
   "outputs": [
    {
     "name": "stdout",
     "output_type": "stream",
     "text": [
      "[[49.116667 -1.1     ]\n",
      " [49.216667 -1.083333]\n",
      " [49.15     -1.183333]\n",
      " ...\n",
      " [49.633333 -1.566667]\n",
      " [49.666667 -1.366667]\n",
      " [49.566667 -1.75    ]]\n"
     ]
    }
   ],
   "source": [
    "coordN=LLD[:,1:3]\n",
    "coordMA= LLD[LLD[:,0]==50,1:3]\n",
    "print(coordMA)"
   ]
  },
  {
   "cell_type": "markdown",
   "metadata": {},
   "source": [
    "En utilisant le TP4, calculez les coordonnées euclidiennes des villes de Normandie et des villes de la Manche.\n",
    "Stockez les coordonnées 3D des villes de Normandie dans un tableau coord_villesN et les coordonnées 3D des villes de La Manche dans un tableau coord_villesMa."
   ]
  },
  {
   "cell_type": "code",
   "execution_count": 26,
   "metadata": {},
   "outputs": [],
   "source": [
    "R = 6367.445\n",
    "def convert3D(u):\n",
    "    xyz = np.zeros((u.shape[0],3))\n",
    "    xyz[:,0] = R*np.cos(u[:,0]*np.pi/180)*np.sin(u[:,1]*np.pi/180)\n",
    "    xyz[:,1] = R*np.cos(u[:,0]*np.pi/180)*np.cos(u[:,1]*np.pi/180)\n",
    "    xyz[:,2] = R*np.sin(u[:,0]*np.pi/180)\n",
    "    return xyz\n",
    "\n",
    "coord_villesN=convert3D(coordN)\n",
    "coord_villesMa=convert3D(coordMA)"
   ]
  },
  {
   "cell_type": "markdown",
   "metadata": {},
   "source": [
    "Affichez sur la même figure les villes de Normandie sous la forme des points de coordonnees (x,-y) en bleu et les villes de la Manche en Rouge."
   ]
  },
  {
   "cell_type": "code",
   "execution_count": 27,
   "metadata": {},
   "outputs": [
    {
     "data": {
      "image/png": "[encoded data removed]",
      "text/plain": [
       "<Figure size 432x288 with 1 Axes>"
      ]
     },
     "metadata": {
      "needs_background": "light"
     },
     "output_type": "display_data"
    }
   ],
   "source": [
    "plt.scatter (coord_villesN[:,0],-coord_villesN[:,1],color='b');\n",
    "plt.scatter (coord_villesMa[:,0],-coord_villesMa[:,1],color='r');\n",
    "plt.show()"
   ]
  },
  {
   "cell_type": "markdown",
   "metadata": {},
   "source": [
    "Calculez la distance euclidienne entre toutes les villes de Normandie. Le résultat sera sous la forme d'une matrice `distN` \n",
    "dont les coordonnées $i,j$ donne la distance entre la ville $i$ et la ville $j$. \n",
    "Faites de la même manière pour la distance euclidienne entre toutes les villes de La Manche. \n",
    "Le résultat sera sous la forme d'une matrice `distMa`."
   ]
  },
  {
   "cell_type": "code",
   "execution_count": 28,
   "metadata": {},
   "outputs": [],
   "source": [
    "coordNdist=sc.spatial.distance.pdist(coord_villesN,metric='euclidean')\n",
    "distN=sc.spatial.distance.squareform(coordNdist)\n",
    "\n",
    "\n",
    "\n",
    "coordMAdist=sc.spatial.distance.pdist(coord_villesMa,metric='euclidean')\n",
    "distMa=sc.spatial.distance.squareform(coordMAdist)\n"
   ]
  },
  {
   "cell_type": "markdown",
   "metadata": {},
   "source": [
    "En considérant le tableau des villes de la Manche, Granville est la ville d'indice 294. Récupérez les indices des 50 villes de la Manche les plus proches de Granville. Puis Récupérez les distances de ces 50 villes par rapport à Granville. "
   ]
  },
  {
   "cell_type": "code",
   "execution_count": 29,
   "metadata": {},
   "outputs": [],
   "source": [
    "indiceMa_Granville=294"
   ]
  },
  {
   "cell_type": "code",
   "execution_count": 30,
   "metadata": {},
   "outputs": [],
   "source": [
    "distance_granV=distMa[indiceMa_Granville]\n",
    "\n",
    "tri_50_ville=np.argsort(distance_granV)[1:51]\n",
    "\n",
    "distance_ville=distMa[tri_50_ville]"
   ]
  },
  {
   "cell_type": "code",
   "execution_count": 31,
   "metadata": {},
   "outputs": [
    {
     "name": "stdout",
     "output_type": "stream",
     "text": [
      "Indices des 50 villes de la Manche les plus proches de Granville:\n",
      "\n",
      "[287 353 368 320 273 355 342 283 240 301 271 229 135 275 356 281 119 139\n",
      " 231 309 171 157 150 319 331 174 246 305 170 279 265 138 137 149 315 125\n",
      " 298 202 366 186 339 327 311 299 191 312 172 153 364 123]\n",
      "\n",
      "\n",
      "\n",
      "\n",
      "Distances de ces 50 villes par rapport à Granville:\n",
      "\n",
      "[[ 45.12964036  53.85718924  43.50474512 ...  87.05337445  91.90962696\n",
      "   80.74927819]\n",
      " [ 47.6522804   56.71896649  46.41025519 ...  90.75767645  95.5700187\n",
      "   84.40583214]\n",
      " [ 44.22008898  53.07111636  42.73423809 ...  87.06177232  91.72661988\n",
      "   80.95753017]\n",
      " ...\n",
      " [ 55.70805512  66.06976299  56.29976424 ... 105.74857842 109.60757184\n",
      "  100.06359678]\n",
      " [ 29.45404496  37.69203425  27.32345876 ...  74.71549555  77.9422946\n",
      "   70.52280876]\n",
      " [ 52.31617534  62.84210127  53.2371532  ... 104.17430005 107.53629124\n",
      "   99.02815848]]\n"
     ]
    }
   ],
   "source": [
    "print(\"Indices des 50 villes de la Manche les plus proches de Granville:\\n\")\n",
    "print(tri_50_ville)\n",
    "print(\"\\n\\n\\n\")\n",
    "print(\"Distances de ces 50 villes par rapport à Granville:\\n\")\n",
    "print(distance_ville)"
   ]
  },
  {
   "cell_type": "markdown",
   "metadata": {},
   "source": [
    "Définissez la variable coordMa_proche_Granville contenant\n",
    "les coordonnées euclidiennes des 50 villes de La Manche les plus proches de Granville."
   ]
  },
  {
   "cell_type": "code",
   "execution_count": 32,
   "metadata": {},
   "outputs": [],
   "source": [
    "coordMa_proche_Granville = coordMA[tri_50_ville]"
   ]
  },
  {
   "cell_type": "markdown",
   "metadata": {},
   "source": [
    "En considérant le tableau de toutes les villes de Normandie, Granville est la ville d'indice 943. \n",
    "Récupérez les indices des 50 villes de Normandie les plus proches de Granville. \n",
    "Puis récuperez les distances de ces 50 villes par rapport à Granville.\n"
   ]
  },
  {
   "cell_type": "code",
   "execution_count": 33,
   "metadata": {},
   "outputs": [],
   "source": [
    "indices_N_gran=943\n",
    "\n",
    "\n",
    "dist_granV=distN[indices_N_gran]\n",
    "\n",
    "\n",
    "tri_50_vil_N=np.argsort(dist_granV)[1:51]\n",
    "\n",
    "\n",
    "distance_vi_50_N=distN[tri_50_vil_N]"
   ]
  },
  {
   "cell_type": "code",
   "execution_count": 34,
   "metadata": {},
   "outputs": [
    {
     "name": "stdout",
     "output_type": "stream",
     "text": [
      "Indices des 50 villes de la Normandie les plus proches de Granville:\n",
      "\n",
      "[ 936 1002 1017  969  922 1004  991  932  889  950  920  878  784  924\n",
      " 1005  930  768  788  880  958  820  806  799  968  980  823  895  954\n",
      "  819  928  914  787  786  798  964  774  947  851 1015  835  988  976\n",
      "  960  948  840  961  821  802 1013  772]\n",
      "\n",
      "\n",
      "\n",
      "\n",
      "Distances de ces 50 villes de la Normandie par rapport à Granville:\n",
      "\n",
      "[[ 80.46783143  91.28857462  90.91728159 ... 261.60519772 251.782531\n",
      "  239.64506891]\n",
      " [ 82.34239958  92.95181377  92.43960744 ... 263.24550796 253.47979136\n",
      "  241.44730285]\n",
      " [ 79.4067965   90.19131573  89.79830695 ... 260.50973566 250.69634164\n",
      "  238.57712993]\n",
      " ...\n",
      " [ 86.33737707  95.76467937  94.61092075 ... 264.90763639 255.43637548\n",
      "  243.93939157]\n",
      " [ 65.96596127  77.26753839  77.28921853 ... 247.29797512 237.34803986\n",
      "  224.98038791]\n",
      " [ 82.37923637  91.72645341  90.54559348 ... 260.80600955 251.34009316\n",
      "  239.85673723]]\n"
     ]
    }
   ],
   "source": [
    "print(\"Indices des 50 villes de la Normandie les plus proches de Granville:\\n\")\n",
    "print(tri_50_vil_N)\n",
    "print(\"\\n\\n\\n\")\n",
    "print(\"Distances de ces 50 villes de la Normandie par rapport à Granville:\\n\")\n",
    "print(distance_vi_50_N)"
   ]
  },
  {
   "cell_type": "markdown",
   "metadata": {},
   "source": [
    "Définissez la variable coordN_proche_Granville contenant\n",
    "les coordonnées euclidiennes des 50 villes de Normandie les plus proches de Granville."
   ]
  },
  {
   "cell_type": "code",
   "execution_count": 35,
   "metadata": {},
   "outputs": [],
   "source": [
    "coordN_proche_Granville = coordN[tri_50_vil_N]"
   ]
  },
  {
   "cell_type": "markdown",
   "metadata": {},
   "source": [
    "Affichez sur une figure les 50 villes de La Manche les plus proches de Granville avec des ronds en bleu et \n",
    "les 50 villes de Normandie les plus proches de Granville avec des carrés en rouge (plus grandes que les ronds en bleus)\n",
    "(Afficher sous forme des points de coordonnees (x,-y) ). Que remarquez vous?"
   ]
  },
  {
   "cell_type": "code",
   "execution_count": 36,
   "metadata": {},
   "outputs": [
    {
     "data": {
      "image/png": "[encoded data removed]",
      "text/plain": [
       "<Figure size 432x288 with 1 Axes>"
      ]
     },
     "metadata": {
      "needs_background": "light"
     },
     "output_type": "display_data"
    }
   ],
   "source": [
    "coordMa3D_proche_G=convert3D(coordMa_proche_Granville)\n",
    "coordN3D_proche_G=convert3D(coordN_proche_Granville)\n",
    "\n",
    "plt.scatter (coordN3D_proche_G[:,0],-coordN3D_proche_G[:,1],color='r',s=90,marker=\"s\");\n",
    "plt.scatter (coordMa3D_proche_G[:,0],-coordMa3D_proche_G[:,1],color='b',s=10);\n",
    "\n",
    "plt.show()"
   ]
  },
  {
   "cell_type": "markdown",
   "metadata": {},
   "source": [
    "coordN_proche_Granville=coordMa_proche_Granville??"
   ]
  },
  {
   "cell_type": "code",
   "execution_count": 37,
   "metadata": {},
   "outputs": [
    {
     "data": {
      "text/plain": [
       "1"
      ]
     },
     "execution_count": 37,
     "metadata": {},
     "output_type": "execute_result"
    }
   ],
   "source": [
    "np.prod((coordMa_proche_Granville==coordN_proche_Granville)==True)"
   ]
  },
  {
   "cell_type": "markdown",
   "metadata": {},
   "source": [
    "Peut-on trouver une ville en dehors de la Manche qui soit plus proche de Granville que Cherbourg-Octeville, \n",
    "la ville de la Manche d'indice 540? \n",
    "Expliquez."
   ]
  },
  {
   "cell_type": "code",
   "execution_count": null,
   "metadata": {},
   "outputs": [],
   "source": []
  },
  {
   "cell_type": "markdown",
   "metadata": {},
   "source": [
    "3 - Visualition d'une  propagation près de Granville.\n",
    "---\n",
    "\n",
    "Nous allons dans ce TP visualiser la propagation d'un phénomène, entre les  villes de la Manche situées a moins de 20 km de Granville. Récupérez d'abord les indices de ces  villes dans une variable indice. Puis définissez les variables coord_p_Granville et dist_p_Granville contenant respectivement les coordonnées 3D des ces villes et les distances entre elles."
   ]
  },
  {
   "cell_type": "code",
   "execution_count": 38,
   "metadata": {},
   "outputs": [],
   "source": [
    "indiceMa_Granville = 294\n",
    "distance_granV=distMa[indiceMa_Granville]\n",
    "\n",
    "indice_ville_inf_20_km=np.argsort(distance_granV[distance_granV<=20])\n",
    "coord_p_Granville=convert3D(coordMA[indice_ville_inf_20_km])\n",
    "\n",
    "\n",
    "md=sc.spatial.distance.pdist(coord_p_Granville,metric='euclidean')\n",
    "dist_p_Granville=sc.spatial.distance.squareform(md)"
   ]
  },
  {
   "cell_type": "markdown",
   "metadata": {},
   "source": [
    " On va sélectionner aléatoirement quelques villes des villes précédentes  en effectuant des tirages aléatoires entre 0 et 1 pour toutes les villes de la Manche situées à moins de 20 km de Granville, que vous placerez dans un tableau nommé `i_villes_src`."
   ]
  },
  {
   "cell_type": "code",
   "execution_count": 39,
   "metadata": {},
   "outputs": [],
   "source": [
    "n=coordMA[indice_ville_inf_20_km].shape[0]\n",
    "i_villes_src=np.random.rand(n)"
   ]
  },
  {
   "cell_type": "markdown",
   "metadata": {},
   "source": [
    "Seules les villes pour lequelles on tire une valeur inférieure à 0.3 seront sélectionnées. Définissez un tableau `villes_sources` de taille 55 qui contient True pour les villes sélectionnées  et False sinon.\n",
    "\n"
   ]
  },
  {
   "cell_type": "code",
   "execution_count": 40,
   "metadata": {},
   "outputs": [
    {
     "name": "stdout",
     "output_type": "stream",
     "text": [
      "(17, 3)\n"
     ]
    }
   ],
   "source": [
    "print(coord_p_Granville[i_villes_src<=0.3].shape)"
   ]
  },
  {
   "cell_type": "markdown",
   "metadata": {},
   "source": [
    "Définissez un variable $s$ égale à 4. Vous pourrez changer par la suite cette valeur pour accélérer ou ralentir la propagation."
   ]
  },
  {
   "cell_type": "code",
   "execution_count": 41,
   "metadata": {},
   "outputs": [],
   "source": [
    "s=4"
   ]
  },
  {
   "cell_type": "markdown",
   "metadata": {},
   "source": [
    "Tirez selon une loi normale centrée réduite les valeurs d’une matrice nommée `villes_choisies`. Cette matrice aura la même taille que la matrice `dist_p_Granville`. Elle va nous permettre de choisir les villes où à lieu la propagation en fonction de leurs distances aux villes initiales."
   ]
  },
  {
   "cell_type": "code",
   "execution_count": null,
   "metadata": {},
   "outputs": [],
   "source": []
  },
  {
   "cell_type": "markdown",
   "metadata": {},
   "source": [
    "Multipliez les valeurs de la matrice `villes_choisies` par $s$ pour fixer la vitesse de propagation. "
   ]
  },
  {
   "cell_type": "code",
   "execution_count": null,
   "metadata": {},
   "outputs": [],
   "source": []
  },
  {
   "cell_type": "markdown",
   "metadata": {},
   "source": [
    "Construisez une nouvelle matrice `villes_propagation_potentielle` qui contient True pour les valeurs dans 'villes_choisies' dont la valeur absolue est plus grand que les valeurs dans dist_p_Granville et False pour les autres. Cette matrice permet de connaître de quelles villes et vers quelles villes se font les propagations. \n",
    "Les villes selon les lignes indiquent les villes sources, les villes en colonnes sont les villes destinations. Pour l'instant on considère que toute ville peut être source."
   ]
  },
  {
   "cell_type": "code",
   "execution_count": null,
   "metadata": {},
   "outputs": [],
   "source": []
  },
  {
   "cell_type": "markdown",
   "metadata": {},
   "source": [
    "Déclarez une variable `villes_propagation_potentielle2` qui est égale `villes_propagation_potentielle` auquel on soustrait une matrice identité de même dimension. "
   ]
  },
  {
   "cell_type": "code",
   "execution_count": null,
   "metadata": {},
   "outputs": [],
   "source": []
  },
  {
   "cell_type": "markdown",
   "metadata": {},
   "source": [
    "En utilisant la matrice`ville_sources`et `villes_propagation_potentielle2`, construisez une matrice M semblable à `villes_propagation_potentielle2` dont seul les lignes correspondant aux villes sources contiennent des valeurs différentes de 0."
   ]
  },
  {
   "cell_type": "code",
   "execution_count": null,
   "metadata": {},
   "outputs": [],
   "source": [
    "\n"
   ]
  },
  {
   "cell_type": "markdown",
   "metadata": {},
   "source": [
    "Construisez un vecteur `villes_destinations` recensant toutes les villes destinations. Ce vecteur contiendra True aux positions des villes destinations et False pour les autres. Pour répondre, vous utiliserez notamment une sommation bien choisie sur la matrice précédente."
   ]
  },
  {
   "cell_type": "code",
   "execution_count": null,
   "metadata": {},
   "outputs": [],
   "source": []
  },
  {
   "cell_type": "markdown",
   "metadata": {},
   "source": [
    "Affichez avec des carrés bleus les villes de la Manche situées à moins de 20 km de Granville, avec des ronds rouges les villes sources et avec des carrés verts les villes destinations. Un affichage qui répond aux contraintes précédentes et qui ne serait pas exactement similaire au rendu du sujet, convient parfaitement."
   ]
  },
  {
   "cell_type": "code",
   "execution_count": null,
   "metadata": {},
   "outputs": [],
   "source": [
    "\n"
   ]
  },
  {
   "cell_type": "markdown",
   "metadata": {},
   "source": [
    "4 - Graphe de propagation\n",
    "---\n",
    "\n",
    "L'objectif de cette partie est de visualiser dans quel sens se font les propagations. Nous souhaitons créé un graphe permettant de visualiser avec des flèches les villes sources et destinations de nos propagations. "
   ]
  },
  {
   "cell_type": "markdown",
   "metadata": {},
   "source": [
    "Créez un vecteur de valeurs de 0 à 55 non compris que vous nommerez `noeuds`. Ce vecteur liste les numéros de villes."
   ]
  },
  {
   "cell_type": "code",
   "execution_count": null,
   "metadata": {},
   "outputs": [],
   "source": []
  },
  {
   "cell_type": "markdown",
   "metadata": {},
   "source": [
    "Créez une matrice de la même taille que `M` indiquant les noeuds sources possible. Vous nommerez cette matrice `a`."
   ]
  },
  {
   "cell_type": "code",
   "execution_count": null,
   "metadata": {},
   "outputs": [],
   "source": []
  },
  {
   "cell_type": "markdown",
   "metadata": {},
   "source": [
    "Concaténez `a` et `a.T` selon l'axe de profondeur. stockez le résultat dans une variable a2"
   ]
  },
  {
   "cell_type": "code",
   "execution_count": null,
   "metadata": {},
   "outputs": [],
   "source": []
  },
  {
   "cell_type": "markdown",
   "metadata": {},
   "source": [
    "Redimensionnez la matrice précédente pour ne garder que les lignes et 2 colonnes. Vous nommerez cette matrice `i_noeuds`."
   ]
  },
  {
   "cell_type": "code",
   "execution_count": null,
   "metadata": {},
   "outputs": [],
   "source": []
  },
  {
   "cell_type": "markdown",
   "metadata": {},
   "source": [
    "En utilisant la matrice précédente. Faites une liste de tout les propagations. La première colonne indique le numéro de la ville source et la deuxième colonne le numéro de la ville destination. Vous nommerez cette matrice `fleches`."
   ]
  },
  {
   "cell_type": "code",
   "execution_count": null,
   "metadata": {},
   "outputs": [],
   "source": []
  },
  {
   "cell_type": "markdown",
   "metadata": {},
   "source": [
    "A votre avis que fait la fonction suivante ? "
   ]
  },
  {
   "cell_type": "code",
   "execution_count": 42,
   "metadata": {},
   "outputs": [],
   "source": [
    "def printGraph(coord,fleches,villes_sources):\n",
    "    plt.figure(figsize=(15,15))\n",
    "    ax = plt.axes()\n",
    "        \n",
    "    ax.axis('equal')\n",
    "    ax.quiver(coord[fleches[:,0],0], \n",
    "              coord[fleches[:,0],1],\n",
    "              coord[fleches[:,1],0]-coord[fleches[:,0],0],\n",
    "              coord[fleches[:,1],1]-coord[fleches[:,0],1],\n",
    "              scale=1.1, units='xy',\n",
    "              headwidth = 7\n",
    "    )\n",
    "    \n",
    "    ax.scatter(coord[:,0],coord[:,1],s=100)\n",
    "    ax.scatter(coord[villes_sources,0],coord[villes_sources,1],s=100,color='r')\n",
    "    plt.show()"
   ]
  },
  {
   "cell_type": "raw",
   "metadata": {},
   "source": [
    "À remplir"
   ]
  },
  {
   "cell_type": "markdown",
   "metadata": {},
   "source": [
    "Utilisez la fonction précédente avec les données du TP. "
   ]
  },
  {
   "cell_type": "code",
   "execution_count": null,
   "metadata": {},
   "outputs": [],
   "source": []
  },
  {
   "cell_type": "markdown",
   "metadata": {},
   "source": []
  },
  {
   "cell_type": "code",
   "execution_count": null,
   "metadata": {},
   "outputs": [],
   "source": []
  }
 ],
 "metadata": {
  "kernelspec": {
   "display_name": "Python 3",
   "language": "python",
   "name": "python3"
  },
  "language_info": {
   "codemirror_mode": {
    "name": "ipython",
    "version": 3
   },
   "file_extension": ".py",
   "mimetype": "text/x-python",
   "name": "python",
   "nbconvert_exporter": "python",
   "pygments_lexer": "ipython3",
   "version": "3.6.5"
  }
 },
 "nbformat": 4,
 "nbformat_minor": 2
}
