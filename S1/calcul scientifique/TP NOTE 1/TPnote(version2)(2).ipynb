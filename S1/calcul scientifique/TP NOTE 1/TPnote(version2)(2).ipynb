{
 "cells": [
  {
   "cell_type": "markdown",
   "metadata": {},
   "source": [
    " TP  noté 1 : La propagation d'un phénomène près de Granville\n",
    " ====="
   ]
  },
  {
   "cell_type": "markdown",
   "metadata": {},
   "source": [
    "1 - Introduction \n",
    "------\n",
    "\n",
    "\n",
    "L’objectif de ce TP est de faire une synthèse des notions abordées dans les précédents TP.\n",
    "\n",
    "Le TP sera à réaliser en python 3. Les librairies utilisées sont installées sur les machines de l'université, vous pouvez néanmoins les installer sur vos propres machines à l'aide de l'utilitaire pip présent par défaut avec python.\n",
    "\t\n",
    "**<span style=\"color:red\"> À part si cela est précisé, vous ne devez pas utiliser directement de boucle (`for`,`while`) ou de branchement conditionnel (`if`) durant ce TP.</span>.**\n",
    "\n",
    "**<span style=\"color:red\"> \n",
    "Ce TP sera noté. Vous rendrez le code que vous avez réalisé en fin de séance sur la plateforme ecampus. N’oubliez pas de mettre votre nom et votre numéro d’étudiant dans les commentaires du fichier. Vous rendrez également un compte-rendu de TP où vous présenterez ce que vous avez fait et répondrez aux questions du TP. Vous mettrez le plus d’images possible pour illustrer vos explications. Ce rapport est à rendre sur ecampus dans un délai d’une semaine. Aucun rendu par mail n’est accepté.</span>**\n",
    "\n",
    "**<span style=\"color:blue\"> Ce sujet utilise des générateurs aléatoires. Il est donc normal que vous n'obteniez pas exactement les même valeurs que les exemples de résultat donnée.</span>**"
   ]
  },
  {
   "cell_type": "raw",
   "metadata": {},
   "source": [
    "Nom: BARRY\n",
    "Prénom: SADOU\n",
    "Numéro d'étudiant: 21811756"
   ]
  },
  {
   "cell_type": "code",
   "execution_count": 1,
   "metadata": {},
   "outputs": [],
   "source": [
    "import numpy as np\n",
    "import scipy as sc\n",
    "import scipy.spatial\n",
    "import matplotlib.pyplot as plt\n",
    "import pickle"
   ]
  },
  {
   "cell_type": "markdown",
   "metadata": {},
   "source": [
    "2 - Affichage des villes de la Manche\n",
    "---"
   ]
  },
  {
   "cell_type": "markdown",
   "metadata": {},
   "source": [
    "Vous avez a votre disposition le fichier \"villes_normandie.csv\". En utilisant l'instruction np.loadtxt, créez une matrice numpy LLD dont chaque ligne représente une ville, la première colonne contient le numéro du département, la seconde la latitude et la troisième colonne la longitude."
   ]
  },
  {
   "cell_type": "code",
   "execution_count": 2,
   "metadata": {},
   "outputs": [
    {
     "name": "stdout",
     "output_type": "stream",
     "text": [
      "[[14.       49.2      -0.6     ]\n",
      " [14.       49.2      -0.433333]\n",
      " [14.       49.166667 -0.416667]\n",
      " ...\n",
      " [76.       49.833333  1.716667]\n",
      " [76.       49.833333  1.566667]\n",
      " [76.       49.85      1.366667]]\n"
     ]
    }
   ],
   "source": [
    "LLD = np.loadtxt('villes_normandie.csv', delimiter=';',usecols=(4, 11, 12),skiprows=1)\n",
    "print(LLD)"
   ]
  },
  {
   "cell_type": "markdown",
   "metadata": {},
   "source": [
    "En utilisant la matrice LLD, créez deux matrices numpy. La première coordN ou chaque ligne contient la latitude\n",
    "et la longitude de tous les villes de Normandie. La seconde coordMa ou chaque ligne contient \n",
    "la latitude et la longitude uniquement des villes du département de la Manche."
   ]
  },
  {
   "cell_type": "code",
   "execution_count": 3,
   "metadata": {},
   "outputs": [
    {
     "name": "stdout",
     "output_type": "stream",
     "text": [
      "('dimension de coordN: ', (2992, 2))\n",
      "('dimension de coordMa:', (569, 2))\n"
     ]
    }
   ],
   "source": [
    "coordN = LLD[:,1:3]\n",
    "coordMa = LLD[LLD[:,0] == 50, 1:3]\n",
    "\n",
    "print('dimension de coordN: ', coordN.shape)\n",
    "print('dimension de coordMa:', coordMa.shape)"
   ]
  },
  {
   "cell_type": "markdown",
   "metadata": {},
   "source": [
    "En utilisant le TP4, calculez les coordonnées euclidiennes des villes de Normandie et des villes de la Manche.\n",
    "Stockez les coordonnées 3D des villes de Normandie dans un tableau coord_villesN et les coordonnées 3D des villes de La Manche dans un tableau coord_villesMa."
   ]
  },
  {
   "cell_type": "code",
   "execution_count": 4,
   "metadata": {},
   "outputs": [
    {
     "name": "stdout",
     "output_type": "stream",
     "text": [
      "(2992, 3)\n",
      "(569, 3)\n"
     ]
    }
   ],
   "source": [
    "R = 6367.445\n",
    "\n",
    "def convert3D(u): \n",
    "    \n",
    "    xyz = np.zeros((u.shape[0],3))\n",
    "    xyz[:,0] = R*np.cos(u[:,0]*np.pi/180)*np.sin(u[:,1]*np.pi/180)\n",
    "    xyz[:,1] = R*np.cos(u[:,0]*np.pi/180)*np.cos(u[:,1]*np.pi/180)\n",
    "    xyz[:,2] = R*np.sin(u[:,0]*np.pi/180)\n",
    "    return xyz\n",
    "\n",
    "coord_villesN = convert3D(coordN)\n",
    "coord_villesMa = convert3D(coordMa)\n",
    "\n",
    "print(coord_villesN.shape)\n",
    "print(coord_villesMa.shape)"
   ]
  },
  {
   "cell_type": "markdown",
   "metadata": {},
   "source": [
    "Affichez sur la même figure les villes de Normandie sous la forme des points de coordonnees (x,-y) en bleu et les villes de la Manche en Rouge."
   ]
  },
  {
   "cell_type": "code",
   "execution_count": 5,
   "metadata": {},
   "outputs": [
    {
     "data": {
      "image/png": "[encoded data removed]",
      "text/plain": [
       "<Figure size 432x288 with 1 Axes>"
      ]
     },
     "metadata": {
      "needs_background": "light"
     },
     "output_type": "display_data"
    }
   ],
   "source": [
    "plt.scatter(coord_villesN[:,0], -coord_villesN[:,1], c='b')\n",
    "plt.scatter(coord_villesMa[:,0], -coord_villesMa[:,1], c='r')\n",
    "\n",
    "plt.show()"
   ]
  },
  {
   "cell_type": "markdown",
   "metadata": {},
   "source": [
    "Calculez la distance euclidienne entre toutes les villes de Normandie. Le résultat sera sous la forme d'une matrice `distN` \n",
    "dont les coordonnées $i,j$ donne la distance entre la ville $i$ et la ville $j$. \n",
    "Faites de la même manière pour la distance euclidienne entre toutes les villes de La Manche. \n",
    "Le résultat sera sous la forme d'une matrice `distMa`."
   ]
  },
  {
   "cell_type": "code",
   "execution_count": 6,
   "metadata": {},
   "outputs": [
    {
     "name": "stdout",
     "output_type": "stream",
     "text": [
      "('Dimension de distN', (2992, 2992))\n",
      "('Dimension de distMa', (569, 569))\n",
      "(4474536,)\n",
      "(2992, 2992)\n"
     ]
    }
   ],
   "source": [
    "md = sc.spatial.distance.pdist(coord_villesN)\n",
    "distN = sc.spatial.distance.squareform(md)\n",
    "\n",
    "md1 = sc.spatial.distance.pdist(coord_villesMa)\n",
    "distMa = sc.spatial.distance.squareform(md1)\n",
    "\n",
    "print('Dimension de distN', distN.shape)\n",
    "print('Dimension de distMa', distMa.shape)\n",
    "print(md.shape)\n",
    "print(distN.shape)"
   ]
  },
  {
   "cell_type": "markdown",
   "metadata": {},
   "source": [
    "En considérant le tableau des villes de la Manche, Granville est la ville d'indice 294. Récupérez les indices des 50 villes de la Manche les plus proches de Granville. Puis Récupérez les distances de ces 50 villes par rapport à Granville. "
   ]
  },
  {
   "cell_type": "code",
   "execution_count": 7,
   "metadata": {},
   "outputs": [],
   "source": [
    "indiceMa_Granville=294"
   ]
  },
  {
   "cell_type": "code",
   "execution_count": 8,
   "metadata": {},
   "outputs": [
    {
     "name": "stdout",
     "output_type": "stream",
     "text": [
      "[287 353 368 320 273 355 342 283 240 301 271 229 135 275 356 281 119 139\n",
      " 231 309 171 157 150 319 331 174 246 305 170 279 265 138 137 149 315 125\n",
      " 298 202 366 186 339 327 311 299 191 312 172 153 364 123]\n",
      "\n",
      "[ 3.06182312  3.06240186  4.09938207  4.09938207  5.20509268  6.37221452\n",
      "  8.20196929  8.24630346  9.18933407  9.30129171  9.59190209  9.75375981\n",
      "  9.95829129 11.08464323 11.12643913 11.29751799 11.80550366 12.13824119\n",
      " 12.67839074 12.73873816 13.40431364 13.54092327 13.54092327 13.85041694\n",
      " 14.00709815 14.27371087 14.36571618 14.74503929 15.09706833 15.30269436\n",
      " 15.59768584 15.6253692  15.65715195 15.84991783 16.27194052 17.06909001\n",
      " 17.36662043 17.42785797 17.48648509 17.50554476 17.73271626 17.74647614\n",
      " 17.94266536 18.20000692 18.3849087  18.64275433 18.66569556 18.73348514\n",
      " 19.1786825  19.1992134 ]\n"
     ]
    }
   ],
   "source": [
    "distance_ma = distMa[indiceMa_Granville]\n",
    "indice_ma = np.argsort(distance_ma)\n",
    "\n",
    "indice_ma_50 = indice_ma[1:51]\n",
    "\n",
    "distance_ma_50 = distance_ma[indice_ma_50]\n",
    "\n",
    "print(indice_ma_50)\n",
    "print(\"\")\n",
    "print(distance_ma_50)"
   ]
  },
  {
   "cell_type": "markdown",
   "metadata": {},
   "source": [
    "Définissez la variable coordMa_proche_Granville contenant\n",
    "les coordonnées euclidiennes des 50 villes de La Manche les plus proches de Granville."
   ]
  },
  {
   "cell_type": "code",
   "execution_count": 9,
   "metadata": {},
   "outputs": [
    {
     "name": "stdout",
     "output_type": "stream",
     "text": [
      "(50, 3)\n"
     ]
    }
   ],
   "source": [
    "coordMa_proche_Granville = coord_villesMa[indice_ma_50]\n",
    "print(coordMa_proche_Granville.shape)"
   ]
  },
  {
   "cell_type": "markdown",
   "metadata": {},
   "source": [
    "En considérant le tableau de toutes les villes de Normandie, Granville est la ville d'indice 943. \n",
    "Récupérez les indices des 50 villes de Normandie les plus proches de Granville. \n",
    "Puis récuperez les distances de ces 50 villes par rapport à Granville.\n"
   ]
  },
  {
   "cell_type": "code",
   "execution_count": 10,
   "metadata": {},
   "outputs": [
    {
     "name": "stdout",
     "output_type": "stream",
     "text": [
      "[ 936 1002 1017  969  922 1004  991  932  889  950  920  878  784  924\n",
      " 1005  930  768  788  880  958  820  806  799  968  980  823  895  954\n",
      "  819  928  914  787  786  798  964  774  947  851 1015  835  988  976\n",
      "  960  948  840  961  821  802 1013  772]\n",
      "[ 3.06182312  3.06240186  4.09938207  4.09938207  5.20509268  6.37221452\n",
      "  8.20196929  8.24630346  9.18933407  9.30129171  9.59190209  9.75375981\n",
      "  9.95829129 11.08464323 11.12643913 11.29751799 11.80550366 12.13824119\n",
      " 12.67839074 12.73873816 13.40431364 13.54092327 13.54092327 13.85041694\n",
      " 14.00709815 14.27371087 14.36571618 14.74503929 15.09706833 15.30269436\n",
      " 15.59768584 15.6253692  15.65715195 15.84991783 16.27194052 17.06909001\n",
      " 17.36662043 17.42785797 17.48648509 17.50554476 17.73271626 17.74647614\n",
      " 17.94266536 18.20000692 18.3849087  18.64275433 18.66569556 18.73348514\n",
      " 19.1786825  19.1992134 ]\n"
     ]
    }
   ],
   "source": [
    "distance_n = distN[943]\n",
    "indice_n = np.argsort(distance_n)\n",
    "\n",
    "indice_n_50 = indice_n[1:51]\n",
    "\n",
    "distance_n_50 = distance_n[indice_n_50]\n",
    "\n",
    "print(indice_n_50)\n",
    "print(distance_n_50)"
   ]
  },
  {
   "cell_type": "markdown",
   "metadata": {},
   "source": [
    "Définissez la variable coordN_proche_Granville contenant\n",
    "les coordonnées euclidiennes des 50 villes de Normandie les plus proches de Granville."
   ]
  },
  {
   "cell_type": "code",
   "execution_count": 11,
   "metadata": {},
   "outputs": [
    {
     "name": "stdout",
     "output_type": "stream",
     "text": [
      "(50, 3)\n"
     ]
    }
   ],
   "source": [
    "coordN_proche_Granville = coord_villesN[indice_n_50]\n",
    "print(coordN_proche_Granville.shape)\n"
   ]
  },
  {
   "cell_type": "markdown",
   "metadata": {},
   "source": [
    "Affichez sur une figure les 50 villes de La Manche les plus proches de Granville avec des ronds en bleu et \n",
    "les 50 villes de Normandie les plus proches de Granville avec des carrés en rouge (plus grandes que les ronds en bleus)\n",
    "(Afficher sous forme des points de coordonnees (x,-y) ). Que remarquez vous?"
   ]
  },
  {
   "cell_type": "code",
   "execution_count": 12,
   "metadata": {},
   "outputs": [
    {
     "data": {
      "image/png": "[encoded data removed]",
      "text/plain": [
       "<Figure size 432x288 with 1 Axes>"
      ]
     },
     "metadata": {
      "needs_background": "light"
     },
     "output_type": "display_data"
    }
   ],
   "source": [
    "plt.scatter(coordMa_proche_Granville[:,0], -coordMa_proche_Granville[:,1], c='b', marker='o', s=300)\n",
    "\n",
    "plt.scatter(coordN_proche_Granville[:,0], -coordN_proche_Granville[:,1], c='r', marker='s', s=100)\n",
    "\n",
    "plt.show()"
   ]
  },
  {
   "cell_type": "markdown",
   "metadata": {},
   "source": [
    "coordN_proche_Granville=coordMa_proche_Granville??"
   ]
  },
  {
   "cell_type": "code",
   "execution_count": 13,
   "metadata": {},
   "outputs": [
    {
     "name": "stdout",
     "output_type": "stream",
     "text": [
      "True\n"
     ]
    }
   ],
   "source": [
    "print((coordMa_proche_Granville == coordN_proche_Granville).all())\n",
    "#Oui les deux sont egales"
   ]
  },
  {
   "cell_type": "markdown",
   "metadata": {},
   "source": [
    "Peut-on trouver une ville en dehors de la Manche qui soit plus proche de Granville que Cherbourg-Octeville, \n",
    "la ville de la Manche d'indice 540? \n",
    "Expliquez."
   ]
  },
  {
   "cell_type": "code",
   "execution_count": 36,
   "metadata": {},
   "outputs": [
    {
     "name": "stdout",
     "output_type": "stream",
     "text": [
      "[[False False  True]\n",
      " [False False  True]\n",
      " [False False  True]\n",
      " ...\n",
      " [False False  True]\n",
      " [False  True False]\n",
      " [ True False  True]]\n"
     ]
    }
   ],
   "source": [
    "print(coord_villesMa < coord_villesMa[540])"
   ]
  },
  {
   "cell_type": "markdown",
   "metadata": {},
   "source": [
    "3 - Visualition d'une  propagation près de Granville.\n",
    "---\n",
    "\n",
    "Nous allons dans ce TP visualiser la propagation d'un phénomène, entre les  villes de la Manche situées a moins de 20 km de Granville. Récupérez d'abord les indices de ces  villes dans une variable indice. Puis définissez les variables coord_p_Granville et dist_p_Granville contenant respectivement les coordonnées 3D des ces villes et les distances entre elles."
   ]
  },
  {
   "cell_type": "code",
   "execution_count": 15,
   "metadata": {},
   "outputs": [
    {
     "name": "stdout",
     "output_type": "stream",
     "text": [
      "(55,)\n",
      "(55, 3)\n",
      "(55, 55)\n"
     ]
    }
   ],
   "source": [
    "dist_grandville = distMa[indiceMa_Granville, indice_ma]\n",
    "indices = np.argsort(dist_grandville)\n",
    "indice_20 = indices[dist_grandville < 20]\n",
    "\n",
    "coord_p_Granville = coord_villesMa[indice_20,:]\n",
    "\n",
    "print(indice_20.shape)\n",
    "print(coord_p_Granville.shape)\n",
    "\n",
    "md4 = sc.spatial.distance.pdist(coord_p_Granville)\n",
    "dist_p_Granville = sc.spatial.distance.squareform(md4)\n",
    "\n",
    "print(dist_p_Granville.shape)"
   ]
  },
  {
   "cell_type": "markdown",
   "metadata": {},
   "source": [
    " On va sélectionner aléatoirement quelques villes des villes précédentes  en effectuant des tirages aléatoires entre 0 et 1 pour toutes les villes de la Manche situées à moins de 20 km de Granville, que vous placerez dans un tableau nommé `i_villes_src`."
   ]
  },
  {
   "cell_type": "code",
   "execution_count": 16,
   "metadata": {},
   "outputs": [
    {
     "name": "stdout",
     "output_type": "stream",
     "text": [
      "[3.24565940e-01 3.64602496e-04 9.73082223e-01 1.76614199e-01\n",
      " 3.70454873e-01 6.56533528e-01 2.18143531e-01 5.24025464e-01\n",
      " 6.57668783e-01 1.68872554e-01 8.67641196e-01 4.84425642e-01\n",
      " 6.37192744e-01 7.85224805e-01 4.31801706e-01 4.34449170e-01\n",
      " 6.37428363e-01 4.46708897e-01 1.80036951e-01 6.32137715e-01\n",
      " 8.78870983e-01 7.96834569e-01 3.44698606e-02 3.93167826e-01\n",
      " 6.99516816e-01 6.79647211e-01 9.21272208e-01 6.91465857e-02\n",
      " 8.11909513e-01 7.40281711e-01 9.91450041e-01 7.70752112e-01\n",
      " 5.32144797e-01 2.68538860e-01 9.74906416e-01 4.15222929e-01\n",
      " 5.61857844e-01 9.37425864e-01 9.01854455e-01 9.41331087e-01\n",
      " 5.90216591e-01 6.77097798e-01 6.70608461e-01 5.92911745e-01\n",
      " 8.91588090e-01 4.32478729e-01 3.78940771e-01 3.42007529e-01\n",
      " 5.04970853e-01 8.41448189e-01 8.99676778e-02 3.67706285e-01\n",
      " 8.82572347e-01 9.81663487e-01 6.36218731e-01]\n"
     ]
    }
   ],
   "source": [
    "n = indice_20.shape[0]\n",
    "i_villes_src = np.random.rand(n)\n",
    "print(i_villes_src)"
   ]
  },
  {
   "cell_type": "markdown",
   "metadata": {},
   "source": [
    "Seules les villes pour lequelles on tire une valeur inférieure à 0.3 seront sélectionnées. Définissez un tableau `villes_sources` de taille 55 qui contient True pour les villes sélectionnées  et False sinon.\n",
    "\n"
   ]
  },
  {
   "cell_type": "code",
   "execution_count": 17,
   "metadata": {},
   "outputs": [
    {
     "name": "stdout",
     "output_type": "stream",
     "text": [
      "[False  True False  True False False  True False False  True False False\n",
      " False False False False False False  True False False False  True False\n",
      " False False False  True False False False False False  True False False\n",
      " False False False False False False False False False False False False\n",
      " False False  True False False False False]\n",
      "(55,)\n"
     ]
    }
   ],
   "source": [
    "villes_sources = i_villes_src < 0.3\n",
    "print(villes_sources)\n",
    "print(villes_sources.shape)"
   ]
  },
  {
   "cell_type": "markdown",
   "metadata": {},
   "source": [
    "Définissez un variable $s$ égale à 4. Vous pourrez changer par la suite cette valeur pour accélérer ou ralentir la propagation."
   ]
  },
  {
   "cell_type": "code",
   "execution_count": 18,
   "metadata": {},
   "outputs": [
    {
     "name": "stdout",
     "output_type": "stream",
     "text": [
      "(55, 55)\n"
     ]
    }
   ],
   "source": [
    "s=4\n",
    "print(dist_p_Granville.shape)"
   ]
  },
  {
   "cell_type": "markdown",
   "metadata": {},
   "source": [
    "Tirez selon une loi normale centrée réduite les valeurs d’une matrice nommée `villes_choisies`. Cette matrice aura la même taille que la matrice `dist_p_Granville`. Elle va nous permettre de choisir les villes où à lieu la propagation en fonction de leurs distances aux villes initiales."
   ]
  },
  {
   "cell_type": "code",
   "execution_count": 19,
   "metadata": {},
   "outputs": [
    {
     "name": "stdout",
     "output_type": "stream",
     "text": [
      "[[ 0.72374376 -1.66394959 -0.89030309 ... -1.1390673   0.74843027\n",
      "  -0.87150802]\n",
      " [ 0.08697238 -1.60134946 -1.72070873 ...  0.32309142 -1.63604769\n",
      "  -0.59207013]\n",
      " [-0.01076702 -1.2841337   0.3763694  ...  0.40093878  0.12029295\n",
      "  -0.75066183]\n",
      " ...\n",
      " [ 1.56131898 -1.50871856  0.29893206 ... -1.54203596 -0.85922517\n",
      "   1.45787789]\n",
      " [-0.57717832  0.84691374 -0.91451243 ... -0.30320996  0.24489848\n",
      "   0.31736771]\n",
      " [-0.47360507  0.4305515   0.94134876 ...  1.19351656  0.54829209\n",
      "   0.40259615]]\n"
     ]
    }
   ],
   "source": [
    "villes_choisies = np.random.standard_normal(dist_p_Granville.shape)\n",
    "print(villes_choisies)"
   ]
  },
  {
   "cell_type": "markdown",
   "metadata": {},
   "source": [
    "Multipliez les valeurs de la matrice `villes_choisies` par $s$ pour fixer la vitesse de propagation. "
   ]
  },
  {
   "cell_type": "code",
   "execution_count": 20,
   "metadata": {},
   "outputs": [],
   "source": [
    "villes_choisies = villes_choisies*s"
   ]
  },
  {
   "cell_type": "markdown",
   "metadata": {},
   "source": [
    "Construisez une nouvelle matrice `villes_propagation_potentielle` qui contient True pour les valeurs dans 'villes_choisies' dont la valeur absolue est plus grand que les valeurs dans dist_p_Granville et False pour les autres. Cette matrice permet de connaître de quelles villes et vers quelles villes se font les propagations. \n",
    "Les villes selon les lignes indiquent les villes sources, les villes en colonnes sont les villes destinations. Pour l'instant on considère que toute ville peut être source."
   ]
  },
  {
   "cell_type": "code",
   "execution_count": 21,
   "metadata": {},
   "outputs": [],
   "source": [
    "villes_propagation_potentielle = np.abs(villes_choisies) > dist_p_Granville"
   ]
  },
  {
   "cell_type": "markdown",
   "metadata": {},
   "source": [
    "Déclarez une variable `villes_propagation_potentielle2` qui est égale `villes_propagation_potentielle` auquel on soustrait une matrice identité de même dimension. "
   ]
  },
  {
   "cell_type": "code",
   "execution_count": 22,
   "metadata": {},
   "outputs": [
    {
     "name": "stdout",
     "output_type": "stream",
     "text": [
      "[[0. 0. 0. ... 0. 0. 0.]\n",
      " [0. 0. 0. ... 0. 0. 0.]\n",
      " [0. 0. 0. ... 0. 0. 0.]\n",
      " ...\n",
      " [0. 0. 0. ... 0. 0. 0.]\n",
      " [0. 0. 0. ... 0. 0. 0.]\n",
      " [0. 0. 0. ... 0. 0. 0.]]\n"
     ]
    }
   ],
   "source": [
    "m_identite = np.eye(villes_propagation_potentielle.shape[0])\n",
    "\n",
    "villes_propagation_potentielle2 = villes_propagation_potentielle - m_identite\n",
    "\n",
    "print(villes_propagation_potentielle2)"
   ]
  },
  {
   "cell_type": "markdown",
   "metadata": {},
   "source": [
    "En utilisant la matrice`ville_sources`et `villes_propagation_potentielle2`, construisez une matrice M semblable à `villes_propagation_potentielle2` dont seul les lignes correspondant aux villes sources contiennent des valeurs différentes de 0."
   ]
  },
  {
   "cell_type": "code",
   "execution_count": 23,
   "metadata": {},
   "outputs": [
    {
     "name": "stdout",
     "output_type": "stream",
     "text": [
      "[[0. 0. 0. 0. 0. 0. 0. 0. 0. 0. 0. 0. 0. 0. 0. 0. 0. 0. 0. 0. 0. 0. 0. 0.\n",
      "  0. 0. 0. 0. 0. 0. 0. 0. 0. 0. 0. 0. 0. 0. 0. 0. 0. 0. 0. 0. 0. 0. 0. 0.\n",
      "  0. 0. 0. 0. 0. 0. 0.]\n",
      " [0. 0. 0. 0. 0. 0. 0. 0. 0. 0. 0. 0. 0. 0. 0. 0. 0. 0. 0. 0. 0. 0. 0. 0.\n",
      "  0. 0. 0. 0. 0. 0. 0. 0. 0. 0. 0. 0. 0. 0. 0. 0. 0. 0. 0. 0. 0. 0. 0. 0.\n",
      "  0. 0. 0. 0. 0. 0. 0.]\n",
      " [0. 0. 0. 0. 0. 0. 0. 0. 0. 0. 0. 0. 0. 0. 0. 0. 0. 0. 0. 0. 0. 1. 0. 0.\n",
      "  0. 1. 0. 0. 0. 0. 0. 0. 0. 0. 0. 0. 0. 0. 0. 0. 0. 0. 0. 0. 0. 0. 0. 0.\n",
      "  0. 0. 0. 0. 0. 0. 0.]\n",
      " [0. 0. 0. 0. 0. 0. 0. 0. 0. 0. 0. 0. 0. 0. 0. 0. 0. 0. 0. 0. 0. 0. 0. 0.\n",
      "  0. 0. 0. 0. 1. 0. 0. 0. 1. 0. 0. 0. 0. 0. 0. 0. 0. 0. 0. 0. 0. 0. 0. 0.\n",
      "  0. 0. 0. 0. 0. 0. 0.]\n",
      " [0. 1. 0. 0. 0. 0. 0. 0. 0. 0. 0. 0. 0. 0. 0. 0. 0. 0. 0. 0. 0. 0. 0. 0.\n",
      "  0. 0. 0. 0. 0. 0. 0. 0. 0. 0. 0. 0. 0. 0. 0. 0. 0. 0. 0. 0. 0. 0. 0. 0.\n",
      "  0. 0. 0. 0. 0. 1. 0.]\n",
      " [0. 0. 0. 0. 0. 0. 0. 0. 0. 0. 0. 0. 1. 0. 0. 0. 0. 0. 0. 0. 0. 0. 0. 0.\n",
      "  0. 0. 0. 0. 0. 0. 0. 0. 0. 0. 0. 0. 0. 0. 0. 0. 0. 0. 0. 0. 0. 0. 0. 0.\n",
      "  0. 0. 0. 0. 0. 0. 0.]\n",
      " [0. 0. 0. 0. 0. 0. 1. 0. 0. 0. 0. 0. 0. 0. 0. 0. 0. 0. 0. 0. 0. 0. 1. 0.\n",
      "  1. 0. 0. 0. 0. 0. 0. 0. 0. 0. 0. 0. 0. 0. 0. 0. 0. 0. 0. 0. 0. 0. 0. 0.\n",
      "  0. 0. 0. 0. 0. 0. 0.]\n",
      " [0. 0. 1. 0. 0. 0. 0. 0. 0. 0. 0. 0. 0. 0. 0. 0. 0. 0. 1. 0. 0. 0. 0. 0.\n",
      "  0. 0. 0. 0. 0. 0. 0. 0. 0. 0. 0. 0. 0. 0. 0. 0. 0. 0. 0. 0. 0. 0. 0. 0.\n",
      "  0. 0. 0. 0. 0. 0. 0.]\n",
      " [0. 0. 0. 0. 0. 0. 0. 0. 0. 0. 0. 0. 0. 0. 0. 0. 0. 0. 0. 0. 0. 0. 0. 0.\n",
      "  0. 0. 0. 0. 0. 1. 0. 0. 0. 0. 0. 0. 0. 0. 0. 0. 0. 0. 0. 0. 0. 0. 0. 0.\n",
      "  0. 0. 0. 0. 0. 0. 0.]]\n"
     ]
    }
   ],
   "source": [
    "M = villes_propagation_potentielle2[villes_sources]\n",
    "print(M)"
   ]
  },
  {
   "cell_type": "markdown",
   "metadata": {},
   "source": [
    "Construisez un vecteur `villes_destinations` recensant toutes les villes destinations. Ce vecteur contiendra True aux positions des villes destinations et False pour les autres. Pour répondre, vous utiliserez notamment une sommation bien choisie sur la matrice précédente."
   ]
  },
  {
   "cell_type": "code",
   "execution_count": 24,
   "metadata": {},
   "outputs": [
    {
     "name": "stdout",
     "output_type": "stream",
     "text": [
      "[ True  True  True False False  True  True False  True  True  True  True\n",
      "  True  True  True False False  True  True False False  True  True  True\n",
      "  True  True  True  True  True  True  True False  True  True False  True\n",
      "  True  True  True  True  True  True  True False False  True False  True\n",
      "  True  True  True  True  True  True  True]\n",
      "(55,)\n"
     ]
    }
   ],
   "source": [
    "villes_destinations = np.sum(villes_propagation_potentielle2, axis=0) > 0\n",
    "print(villes_destinations)\n",
    "print(villes_destinations.shape)"
   ]
  },
  {
   "cell_type": "markdown",
   "metadata": {},
   "source": [
    "Affichez avec des carrés bleus les villes de la Manche situées à moins de 20 km de Granville, avec des ronds rouges les villes sources et avec des carrés verts les villes destinations. Un affichage qui répond aux contraintes précédentes et qui ne serait pas exactement similaire au rendu du sujet, convient parfaitement."
   ]
  },
  {
   "cell_type": "code",
   "execution_count": 25,
   "metadata": {},
   "outputs": [
    {
     "data": {
      "image/png": "[encoded data removed]",
      "text/plain": [
       "<Figure size 936x720 with 1 Axes>"
      ]
     },
     "metadata": {
      "needs_background": "light"
     },
     "output_type": "display_data"
    }
   ],
   "source": [
    "plt.figure(figsize = (13,10))\n",
    "plt.scatter(coord_p_Granville[:,0], -coord_p_Granville[:,1], color='b', marker ='s', alpha=0.2, s=100)\n",
    "plt.scatter(coord_p_Granville[villes_sources,0], -coord_p_Granville[villes_sources,1], color='r', marker ='o', s=150)\n",
    "plt.scatter(coord_p_Granville[villes_destinations,0], -coord_p_Granville[villes_destinations,1], color='g', marker ='s', s=100)\n",
    "plt.show()"
   ]
  },
  {
   "cell_type": "markdown",
   "metadata": {},
   "source": [
    "4 - Graphe de propagation\n",
    "---\n",
    "\n",
    "L'objectif de cette partie est de visualiser dans quel sens se font les propagations. Nous souhaitons créé un graphe permettant de visualiser avec des flèches les villes sources et destinations de nos propagations. "
   ]
  },
  {
   "cell_type": "markdown",
   "metadata": {},
   "source": [
    "Créez un vecteur de valeurs de 0 à 55 non compris que vous nommerez `noeuds`. Ce vecteur liste les numéros de villes."
   ]
  },
  {
   "cell_type": "code",
   "execution_count": 26,
   "metadata": {},
   "outputs": [
    {
     "name": "stdout",
     "output_type": "stream",
     "text": [
      "[ 0  1  2  3  4  5  6  7  8  9 10 11 12 13 14 15 16 17 18 19 20 21 22 23\n",
      " 24 25 26 27 28 29 30 31 32 33 34 35 36 37 38 39 40 41 42 43 44 45 46 47\n",
      " 48 49 50 51 52 53 54]\n"
     ]
    }
   ],
   "source": [
    "noeuds = np.arange(0, 55)\n",
    "print(noeuds)"
   ]
  },
  {
   "cell_type": "markdown",
   "metadata": {},
   "source": [
    "Créez une matrice de la même taille que `M` indiquant les noeuds sources possible. Vous nommerez cette matrice `a`."
   ]
  },
  {
   "cell_type": "code",
   "execution_count": 27,
   "metadata": {},
   "outputs": [
    {
     "name": "stdout",
     "output_type": "stream",
     "text": [
      "(55, 55)\n",
      "(55, 55)\n"
     ]
    }
   ],
   "source": [
    "a = np.tile(noeuds, (M.shape[1], 1))\n",
    "print(a.shape)\n",
    "print(a.T.shape)"
   ]
  },
  {
   "cell_type": "markdown",
   "metadata": {},
   "source": [
    "Concaténez `a` et `a.T` selon l'axe de profondeur. stockez le résultat dans une variable a2"
   ]
  },
  {
   "cell_type": "code",
   "execution_count": 28,
   "metadata": {},
   "outputs": [
    {
     "name": "stdout",
     "output_type": "stream",
     "text": [
      "(55, 55, 2)\n",
      "[[[ 0  0]\n",
      "  [ 1  0]\n",
      "  [ 2  0]\n",
      "  ...\n",
      "  [52  0]\n",
      "  [53  0]\n",
      "  [54  0]]\n",
      "\n",
      " [[ 0  1]\n",
      "  [ 1  1]\n",
      "  [ 2  1]\n",
      "  ...\n",
      "  [52  1]\n",
      "  [53  1]\n",
      "  [54  1]]\n",
      "\n",
      " [[ 0  2]\n",
      "  [ 1  2]\n",
      "  [ 2  2]\n",
      "  ...\n",
      "  [52  2]\n",
      "  [53  2]\n",
      "  [54  2]]\n",
      "\n",
      " ...\n",
      "\n",
      " [[ 0 52]\n",
      "  [ 1 52]\n",
      "  [ 2 52]\n",
      "  ...\n",
      "  [52 52]\n",
      "  [53 52]\n",
      "  [54 52]]\n",
      "\n",
      " [[ 0 53]\n",
      "  [ 1 53]\n",
      "  [ 2 53]\n",
      "  ...\n",
      "  [52 53]\n",
      "  [53 53]\n",
      "  [54 53]]\n",
      "\n",
      " [[ 0 54]\n",
      "  [ 1 54]\n",
      "  [ 2 54]\n",
      "  ...\n",
      "  [52 54]\n",
      "  [53 54]\n",
      "  [54 54]]]\n"
     ]
    }
   ],
   "source": [
    "a2 = np.stack((a, a.T), axis=2)\n",
    "print(a2.shape)\n",
    "print(a2)"
   ]
  },
  {
   "cell_type": "markdown",
   "metadata": {},
   "source": [
    "Redimensionnez la matrice précédente pour ne garder que les lignes et 2 colonnes. Vous nommerez cette matrice `i_noeuds`."
   ]
  },
  {
   "cell_type": "code",
   "execution_count": 29,
   "metadata": {},
   "outputs": [
    {
     "name": "stdout",
     "output_type": "stream",
     "text": [
      "(3025, 2)\n"
     ]
    }
   ],
   "source": [
    "i_noeuds = a2.reshape((-1,2))\n",
    "print(i_noeuds.shape)"
   ]
  },
  {
   "cell_type": "markdown",
   "metadata": {},
   "source": [
    "En utilisant la matrice précédente. Faites une liste de tout les propagations. La première colonne indique le numéro de la ville source et la deuxième colonne le numéro de la ville destination. Vous nommerez cette matrice `fleches`."
   ]
  },
  {
   "cell_type": "code",
   "execution_count": 30,
   "metadata": {},
   "outputs": [],
   "source": [
    "fleches = np.array([[i_noeuds[:,0]], i_noeuds[:,1]])"
   ]
  },
  {
   "cell_type": "markdown",
   "metadata": {},
   "source": [
    "A votre avis que fait la fonction suivante ? "
   ]
  },
  {
   "cell_type": "code",
   "execution_count": 31,
   "metadata": {},
   "outputs": [],
   "source": [
    "def printGraph(coord,fleches,villes_sources):\n",
    "    plt.figure(figsize=(15,15))\n",
    "    ax = plt.axes()\n",
    "        \n",
    "    ax.axis('equal')\n",
    "    ax.quiver(coord[fleches[:,0],0], \n",
    "              coord[fleches[:,0],1],\n",
    "              coord[fleches[:,1],0]-coord[fleches[:,0],0],\n",
    "              coord[fleches[:,1],1]-coord[fleches[:,0],1],\n",
    "              scale=1.1, units='xy',\n",
    "              headwidth = 7\n",
    "    )\n",
    "    \n",
    "    ax.scatter(coord[:,0],coord[:,1],s=100)\n",
    "    ax.scatter(coord[villes_sources,0],coord[villes_sources,1],s=100,color='r')\n",
    "    plt.show()"
   ]
  },
  {
   "cell_type": "raw",
   "metadata": {},
   "source": [
    "À remplir"
   ]
  },
  {
   "cell_type": "markdown",
   "metadata": {},
   "source": [
    "Utilisez la fonction précédente avec les données du TP. "
   ]
  },
  {
   "cell_type": "code",
   "execution_count": null,
   "metadata": {},
   "outputs": [],
   "source": []
  },
  {
   "cell_type": "markdown",
   "metadata": {},
   "source": []
  },
  {
   "cell_type": "code",
   "execution_count": null,
   "metadata": {},
   "outputs": [],
   "source": []
  }
 ],
 "metadata": {
  "kernelspec": {
   "display_name": "Python 3",
   "language": "python",
   "name": "python3"
  },
  "language_info": {
   "codemirror_mode": {
    "name": "ipython",
    "version": 3
   },
   "file_extension": ".py",
   "mimetype": "text/x-python",
   "name": "python",
   "nbconvert_exporter": "python",
   "pygments_lexer": "ipython3",
   "version": "3.6.5"
  }
 },
 "nbformat": 4,
 "nbformat_minor": 2
}
